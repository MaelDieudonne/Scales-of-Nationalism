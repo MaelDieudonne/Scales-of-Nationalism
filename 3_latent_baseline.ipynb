{
 "cells": [
  {
   "cell_type": "code",
   "execution_count": null,
   "id": "4887e505-68fb-40c0-adb5-06ef3199e312",
   "metadata": {},
   "outputs": [],
   "source": [
    "import ast\n",
    "import numpy as np\n",
    "import pandas as pd\n",
    "import time\n",
    "import warnings\n",
    "\n",
    "from itertools import product\n",
    "from joblib import Parallel, delayed\n",
    "\n",
    "from scipy.stats import chi2\n",
    "from stepmix.bootstrap import blrt_sweep\n",
    "from stepmix.stepmix import StepMix\n",
    "from tqdm import tqdm\n",
    "\n",
    "from src.model_fit import do_StepMix\n",
    "from src.model_select import blrt_sweep_custom"
   ]
  },
  {
   "cell_type": "code",
   "execution_count": null,
   "id": "f58bc7f0",
   "metadata": {},
   "outputs": [],
   "source": [
    "max_threads = 8\n",
    "bootstrap_iters = 500"
   ]
  },
  {
   "cell_type": "code",
   "execution_count": null,
   "id": "e28820ec-976b-4d7b-92f4-62c50eb66c40",
   "metadata": {},
   "outputs": [],
   "source": [
    "var_list = [\n",
    "    'clseusa', 'ambornin', 'amcit', 'amlived', 'amenglsh', 'amchrstn',\n",
    "    'amgovt', 'amfeel', 'amcitizn', 'amshamed', 'belikeus', 'ambetter',\n",
    "    'ifwrong', 'proudsss', 'proudgrp', 'proudpol', 'prouddem', 'proudeco',\n",
    "    'proudspt', 'proudart', 'proudhis', 'proudmil', 'proudsci']\n",
    "\n",
    "var_list_n = [var + \"_n\" for var in var_list]"
   ]
  },
  {
   "cell_type": "markdown",
   "id": "0aa98bed-4d02-4944-88bb-f50e0c2b9e84",
   "metadata": {},
   "source": [
    "# n = 830"
   ]
  },
  {
   "cell_type": "code",
   "execution_count": null,
   "id": "744402b9-614f-4e8f-b537-5603e2f30233",
   "metadata": {},
   "outputs": [],
   "source": [
    "data2004 = pd.read_parquet(f\"data/data2004_830.parquet\")\n",
    "data_f = data2004[var_list_n] - 1 # reindexing to 0 (as expected by StepMix)"
   ]
  },
  {
   "cell_type": "code",
   "execution_count": null,
   "id": "14613873-d1cd-45ba-b54f-410e8e64b571",
   "metadata": {},
   "outputs": [],
   "source": [
    "results = Parallel(n_jobs=max_threads)(\n",
    "    delayed(do_StepMix)(\n",
    "        data = data_f,\n",
    "        controls = None,\n",
    "        n = n_clust,\n",
    "        msrt = 'categorical',\n",
    "        covar = 'without',\n",
    "        weights = None)\n",
    "    for n_clust in tqdm(range(1,9), desc='Fitting latent models'))\n",
    "\n",
    "replic_LCA = pd.DataFrame(results).drop(columns = ['model', 'params', 'silhouette', 'calinski_harabasz', 'davies_bouldin', 'dunn'])\n",
    "replic_LCA['l2_red'] = 100 * (replic_LCA['LL'].iloc[0] - replic_LCA['LL']) / replic_LCA['LL'].iloc[0]"
   ]
  },
  {
   "cell_type": "code",
   "execution_count": null,
   "id": "5b804a70-31dd-4723-945d-aa950c0e5938",
   "metadata": {},
   "outputs": [],
   "source": [
    "replic_LCA.style"
   ]
  },
  {
   "cell_type": "markdown",
   "id": "54021ebe-9437-4506-b150-e387fdef6a11",
   "metadata": {},
   "source": [
    "## BLRT"
   ]
  },
  {
   "cell_type": "code",
   "execution_count": null,
   "id": "0b50389e-e170-4393-911a-7ec72cd9ac21",
   "metadata": {},
   "outputs": [],
   "source": [
    "opt_params = {\n",
    "    'method': 'gradient',\n",
    "    'intercept': True,\n",
    "    'max_iter': 500}\n",
    "\n",
    "latent_mod = StepMix(\n",
    "    measurement = 'categorical',\n",
    "    n_init = 5,\n",
    "    abs_tol = 1e-4,\n",
    "    rel_tol = 1e-4,\n",
    "    init_params = 'kmeans',\n",
    "    structural_params = opt_params,\n",
    "    progress_bar = 0)"
   ]
  },
  {
   "cell_type": "code",
   "execution_count": null,
   "id": "c10f5f47-c871-4e62-87e8-ab13f3b7325b",
   "metadata": {
    "scrolled": true
   },
   "outputs": [],
   "source": [
    "s_time = time.time()\n",
    "BLRT = blrt_sweep_custom(\n",
    "    latent_mod,\n",
    "    data_f,\n",
    "    low = 1,\n",
    "    high = 8,\n",
    "    n_repetitions = bootstrap_iters,\n",
    "    n_jobs = max_threads)\n",
    "e_time = time.time()"
   ]
  },
  {
   "cell_type": "code",
   "execution_count": null,
   "id": "e8b06de4-27c0-4cb3-858b-5ed6d1fdcd05",
   "metadata": {},
   "outputs": [],
   "source": [
    "print(f\"Total execution time: {(e_time - s_time) / 60:.2f} minutes\")"
   ]
  },
  {
   "cell_type": "code",
   "execution_count": null,
   "id": "566d7fb0-14be-4025-bec7-a98cfc01c74b",
   "metadata": {},
   "outputs": [],
   "source": [
    "BLRT_res = pd.concat([pd.DataFrame({'p': [np.nan]}), BLRT]).reset_index(drop=True) # Add a row for the saturated model\n",
    "BLRT_res[\"n clust\"] = [f\"{i+1} vs. {i} clust\" for i in BLRT_res.index]\n",
    "BLRT_res = BLRT_res.iloc[1:]\n",
    "BLRT_res = BLRT_res[[\"n clust\", \"p\"]]\n",
    "BLRT_res.to_csv(\"output/models/BLRT_simplex.csv\", index=False)\n",
    "\n",
    "BLRT_res.style.hide(axis=0).format({\"p\": \"{:.3f}\"})"
   ]
  },
  {
   "cell_type": "code",
   "execution_count": null,
   "id": "e52be3de-aa6c-4a82-b77e-a4fccf6f8f39",
   "metadata": {},
   "outputs": [],
   "source": [
    "if BLRT_res[BLRT_res['p'] > 0.05].empty:\n",
    "    best_LCA = None\n",
    "else:\n",
    "    best_LCA = BLRT_res[BLRT_res['p'] > 0.05]\n",
    "    best_LCA = best_LCA.index[0]\n",
    "\n",
    "print(f\"Optimal number of clusters for LCA without covariates and sample weights is {best_LCA} according to BLRT.\")"
   ]
  },
  {
   "cell_type": "markdown",
   "id": "0cf745ff-64c4-46fb-8449-65d24d5a3391",
   "metadata": {},
   "source": [
    "# n = 1077"
   ]
  },
  {
   "cell_type": "code",
   "execution_count": null,
   "id": "c9f383fd-25c1-4fc5-b941-d0fa14b2dfc6",
   "metadata": {},
   "outputs": [],
   "source": [
    "data2004 = pd.read_parquet(f\"data/data2004_1077.parquet\")\n",
    "data_f = data2004[var_list_n] - 1 # reindexing to 0 (as expected by StepMix)"
   ]
  },
  {
   "cell_type": "code",
   "execution_count": null,
   "id": "bad93c09-f2bf-4517-9e25-8d609041d23f",
   "metadata": {},
   "outputs": [],
   "source": [
    "results = Parallel(n_jobs=max_threads)(\n",
    "    delayed(do_StepMix)(\n",
    "        data = data_f,\n",
    "        controls = None,\n",
    "        n = n_clust,\n",
    "        msrt = 'categorical',\n",
    "        covar = 'without',\n",
    "        weights = None)\n",
    "    for n_clust in tqdm(range(1,9), desc='Fitting latent models'))\n",
    "\n",
    "replic_LCA = pd.DataFrame(results).drop(columns = ['model', 'params', 'silhouette', 'calinski_harabasz', 'davies_bouldin', 'dunn'])\n",
    "replic_LCA['l2_red'] = 100 * (replic_LCA['LL'].iloc[0] - replic_LCA['LL']) / replic_LCA['LL'].iloc[0]"
   ]
  },
  {
   "cell_type": "code",
   "execution_count": null,
   "id": "5403d44a-35e7-40d9-9df6-63cfbed08f25",
   "metadata": {},
   "outputs": [],
   "source": [
    "replic_LCA.style"
   ]
  },
  {
   "cell_type": "markdown",
   "id": "d2302181-6a9d-494d-94cd-da9d69db348b",
   "metadata": {},
   "source": [
    "## BLRT"
   ]
  },
  {
   "cell_type": "code",
   "execution_count": null,
   "id": "8f587f0b-2697-4e2e-b606-b952aaf68bee",
   "metadata": {},
   "outputs": [],
   "source": [
    "s_time = time.time()\n",
    "BLRT = blrt_sweep_custom(\n",
    "    latent_mod,\n",
    "    data_f,\n",
    "    low = 1,\n",
    "    high = 8,\n",
    "    n_repetitions = bootstrap_iters,\n",
    "    n_jobs = max_threads)\n",
    "e_time = time.time()"
   ]
  },
  {
   "cell_type": "code",
   "execution_count": null,
   "id": "86b86c82-40c9-4a3e-bb34-6a0990d4a2bf",
   "metadata": {},
   "outputs": [],
   "source": [
    "print(f\"Total execution time: {(e_time - s_time) / 60:.2f} minutes\")"
   ]
  },
  {
   "cell_type": "code",
   "execution_count": null,
   "id": "4a09bfe6-cf1e-40cc-bedc-deeb61ec7398",
   "metadata": {},
   "outputs": [],
   "source": [
    "BLRT_res = pd.concat([pd.DataFrame({'p': [np.nan]}), BLRT]).reset_index(drop=True) # Add a row for the saturated model\n",
    "BLRT_res[\"n clust\"] = [f\"{i+1} vs. {i} clust\" for i in BLRT_res.index]\n",
    "BLRT_res = BLRT_res.iloc[1:]\n",
    "BLRT_res = BLRT_res[[\"n clust\", \"p\"]]\n",
    "BLRT_res.to_csv(\"output/models/BLRT_simplex.csv\", index=False)\n",
    "\n",
    "BLRT_res.style.hide(axis=0).format({\"p\": \"{:.3f}\"})"
   ]
  },
  {
   "cell_type": "code",
   "execution_count": null,
   "id": "448c996f-2f90-418d-8754-e1ac8dcd3798",
   "metadata": {},
   "outputs": [],
   "source": [
    "if BLRT_res[BLRT_res['p'] > 0.05].empty:\n",
    "    best_LCA = None\n",
    "else:\n",
    "    best_LCA = BLRT_res[BLRT_res['p'] > 0.05]\n",
    "    best_LCA = best_LCA.index[0]\n",
    "\n",
    "print(f\"Optimal number of clusters for LCA without covariates and sample weights is {best_LCA} according to BLRT.\")"
   ]
  },
  {
   "cell_type": "markdown",
   "id": "81594333-097a-465d-8fd3-bfc51ca35c93",
   "metadata": {},
   "source": [
    "# n = 1215"
   ]
  },
  {
   "cell_type": "code",
   "execution_count": null,
   "id": "c27a2ee0-9a9a-4359-ad04-065275a4cb4a",
   "metadata": {},
   "outputs": [],
   "source": [
    "data2004 = pd.read_parquet(f\"data/data2004_1215.parquet\")\n",
    "data_f = data2004[var_list_n] - 1 # reindexing to 0 (as expected by StepMix)"
   ]
  },
  {
   "cell_type": "code",
   "execution_count": null,
   "id": "d02d32b1-94b3-43d8-92de-0d76abd30bde",
   "metadata": {},
   "outputs": [],
   "source": [
    "results = Parallel(n_jobs=max_threads)(\n",
    "    delayed(do_StepMix)(\n",
    "        data = data_f,\n",
    "        controls = None,\n",
    "        n = n_clust,\n",
    "        msrt = 'categorical',\n",
    "        covar = 'without',\n",
    "        weights = None)\n",
    "    for n_clust in tqdm(range(1,9), desc='Fitting latent models'))\n",
    "\n",
    "replic_LCA = pd.DataFrame(results).drop(columns = ['model', 'params', 'silhouette', 'calinski_harabasz', 'davies_bouldin', 'dunn'])\n",
    "replic_LCA['l2_red'] = 100 * (replic_LCA['LL'].iloc[0] - replic_LCA['LL']) / replic_LCA['LL'].iloc[0]"
   ]
  },
  {
   "cell_type": "code",
   "execution_count": null,
   "id": "b1d68718-7d74-4231-a0b8-d64cda22dc6e",
   "metadata": {},
   "outputs": [],
   "source": [
    "replic_LCA.style"
   ]
  },
  {
   "cell_type": "markdown",
   "id": "ac18a906-0a7e-4860-86d4-595c93080869",
   "metadata": {},
   "source": [
    "## BLRT"
   ]
  },
  {
   "cell_type": "code",
   "execution_count": null,
   "id": "44254464-2ed6-41cf-b676-10aa828341c6",
   "metadata": {},
   "outputs": [],
   "source": [
    "s_time = time.time()\n",
    "BLRT = blrt_sweep_custom(\n",
    "    latent_mod,\n",
    "    data_f,\n",
    "    low = 1,\n",
    "    high = 8,\n",
    "    n_repetitions = bootstrap_iters,\n",
    "    n_jobs = max_threads)\n",
    "e_time = time.time()"
   ]
  },
  {
   "cell_type": "code",
   "execution_count": null,
   "id": "a92cdee0-c509-43fc-a840-89204fe72929",
   "metadata": {},
   "outputs": [],
   "source": [
    "print(f\"Total execution time: {(e_time - s_time) / 60:.2f} minutes\")"
   ]
  },
  {
   "cell_type": "code",
   "execution_count": null,
   "id": "b8e565fc-f0d6-49de-9a65-d1e15c329098",
   "metadata": {},
   "outputs": [],
   "source": [
    "BLRT_res = pd.concat([pd.DataFrame({'p': [np.nan]}), BLRT]).reset_index(drop=True) # Add a row for the saturated model\n",
    "BLRT_res[\"n clust\"] = [f\"{i+1} vs. {i} clust\" for i in BLRT_res.index]\n",
    "BLRT_res = BLRT_res.iloc[1:]\n",
    "BLRT_res = BLRT_res[[\"n clust\", \"p\"]]\n",
    "BLRT_res.to_csv(\"output/models/BLRT_simplex.csv\", index=False)\n",
    "\n",
    "BLRT_res.style.hide(axis=0).format({\"p\": \"{:.3f}\"})"
   ]
  },
  {
   "cell_type": "code",
   "execution_count": null,
   "id": "a6133ea9-8e7c-4c53-92f9-4166a351ebef",
   "metadata": {},
   "outputs": [],
   "source": [
    "if BLRT_res[BLRT_res['p'] > 0.05].empty:\n",
    "    best_LCA = None\n",
    "else:\n",
    "    best_LCA = BLRT_res[BLRT_res['p'] > 0.05]\n",
    "    best_LCA = best_LCA.index[0]\n",
    "\n",
    "print(f\"Optimal number of clusters for LCA without covariates and sample weights is {best_LCA} according to BLRT.\")"
   ]
  }
 ],
 "metadata": {
  "kernelspec": {
   "display_name": "Python 3 (ipykernel)",
   "language": "python",
   "name": "python3"
  },
  "language_info": {
   "codemirror_mode": {
    "name": "ipython",
    "version": 3
   },
   "file_extension": ".py",
   "mimetype": "text/x-python",
   "name": "python",
   "nbconvert_exporter": "python",
   "pygments_lexer": "ipython3",
   "version": "3.12.9"
  }
 },
 "nbformat": 4,
 "nbformat_minor": 5
}

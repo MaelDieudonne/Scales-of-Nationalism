{
 "cells": [
  {
   "cell_type": "code",
   "execution_count": 1,
   "id": "4887e505-68fb-40c0-adb5-06ef3199e312",
   "metadata": {},
   "outputs": [],
   "source": [
    "import ast\n",
    "import numpy as np\n",
    "import pandas as pd\n",
    "import time\n",
    "import warnings\n",
    "\n",
    "from itertools import product\n",
    "from joblib import Parallel, delayed\n",
    "\n",
    "from scipy.stats import chi2\n",
    "from stepmix.bootstrap import blrt_sweep\n",
    "from stepmix.stepmix import StepMix\n",
    "from tqdm import tqdm\n",
    "\n",
    "from src.model_fit import do_StepMix\n",
    "from src.model_select import blrt_sweep_custom"
   ]
  },
  {
   "cell_type": "code",
   "execution_count": 2,
   "id": "f58bc7f0",
   "metadata": {},
   "outputs": [],
   "source": [
    "max_threads = -1\n",
    "bootstrap_iters = 1000"
   ]
  },
  {
   "cell_type": "code",
   "execution_count": 3,
   "id": "e28820ec-976b-4d7b-92f4-62c50eb66c40",
   "metadata": {},
   "outputs": [],
   "source": [
    "var_list = [\n",
    "    'clseusa', 'ambornin', 'amcit', 'amlived', 'amenglsh', 'amchrstn',\n",
    "    'amgovt', 'amfeel', 'amcitizn', 'amshamed', 'belikeus', 'ambetter',\n",
    "    'ifwrong', 'proudsss', 'proudgrp', 'proudpol', 'prouddem', 'proudeco',\n",
    "    'proudspt', 'proudart', 'proudhis', 'proudmil', 'proudsci']\n",
    "\n",
    "var_list_n = [var + \"_n\" for var in var_list]"
   ]
  },
  {
   "cell_type": "markdown",
   "id": "0aa98bed-4d02-4944-88bb-f50e0c2b9e84",
   "metadata": {},
   "source": [
    "# n = 830"
   ]
  },
  {
   "cell_type": "code",
   "execution_count": 4,
   "id": "744402b9-614f-4e8f-b537-5603e2f30233",
   "metadata": {},
   "outputs": [],
   "source": [
    "data2004 = pd.read_parquet(f\"data/data2004_830.parquet\")\n",
    "data_f = data2004[var_list_n] - 1 # reindexing to 0 (as expected by StepMix)"
   ]
  },
  {
   "cell_type": "code",
   "execution_count": 5,
   "id": "14613873-d1cd-45ba-b54f-410e8e64b571",
   "metadata": {},
   "outputs": [
    {
     "name": "stderr",
     "output_type": "stream",
     "text": [
      "Fitting latent models: 100%|██████████| 8/8 [00:00<00:00, 2257.73it/s]\n"
     ]
    }
   ],
   "source": [
    "results = Parallel(n_jobs=max_threads)(\n",
    "    delayed(do_StepMix)(\n",
    "        data = data_f,\n",
    "        controls = None,\n",
    "        n = n_clust,\n",
    "        msrt = 'categorical',\n",
    "        covar = 'without',\n",
    "        weights = None)\n",
    "    for n_clust in tqdm(range(1,9), desc='Fitting latent models'))\n",
    "\n",
    "replic_LCA = pd.DataFrame(results).drop(columns = ['model', 'params', 'silhouette', 'calinski_harabasz', 'davies_bouldin', 'dunn'])\n",
    "replic_LCA['l2_red'] = 100 * (replic_LCA['LL'].iloc[0] - replic_LCA['LL']) / replic_LCA['LL'].iloc[0]"
   ]
  },
  {
   "cell_type": "code",
   "execution_count": 6,
   "id": "5b804a70-31dd-4723-945d-aa950c0e5938",
   "metadata": {},
   "outputs": [
    {
     "data": {
      "text/html": [
       "<style type=\"text/css\">\n",
       "</style>\n",
       "<table id=\"T_12273\">\n",
       "  <thead>\n",
       "    <tr>\n",
       "      <th class=\"blank level0\" >&nbsp;</th>\n",
       "      <th id=\"T_12273_level0_col0\" class=\"col_heading level0 col0\" >n_clust</th>\n",
       "      <th id=\"T_12273_level0_col1\" class=\"col_heading level0 col1\" >min_clust_size</th>\n",
       "      <th id=\"T_12273_level0_col2\" class=\"col_heading level0 col2\" >max_clust_size</th>\n",
       "      <th id=\"T_12273_level0_col3\" class=\"col_heading level0 col3\" >aic</th>\n",
       "      <th id=\"T_12273_level0_col4\" class=\"col_heading level0 col4\" >bic</th>\n",
       "      <th id=\"T_12273_level0_col5\" class=\"col_heading level0 col5\" >sabic</th>\n",
       "      <th id=\"T_12273_level0_col6\" class=\"col_heading level0 col6\" >relative_entropy</th>\n",
       "      <th id=\"T_12273_level0_col7\" class=\"col_heading level0 col7\" >classif_error</th>\n",
       "      <th id=\"T_12273_level0_col8\" class=\"col_heading level0 col8\" >df</th>\n",
       "      <th id=\"T_12273_level0_col9\" class=\"col_heading level0 col9\" >LL</th>\n",
       "      <th id=\"T_12273_level0_col10\" class=\"col_heading level0 col10\" >l2_red</th>\n",
       "    </tr>\n",
       "  </thead>\n",
       "  <tbody>\n",
       "    <tr>\n",
       "      <th id=\"T_12273_level0_row0\" class=\"row_heading level0 row0\" >0</th>\n",
       "      <td id=\"T_12273_row0_col0\" class=\"data row0 col0\" >1</td>\n",
       "      <td id=\"T_12273_row0_col1\" class=\"data row0 col1\" >830</td>\n",
       "      <td id=\"T_12273_row0_col2\" class=\"data row0 col2\" >830</td>\n",
       "      <td id=\"T_12273_row0_col3\" class=\"data row0 col3\" >38299.429095</td>\n",
       "      <td id=\"T_12273_row0_col4\" class=\"data row0 col4\" >38648.814597</td>\n",
       "      <td id=\"T_12273_row0_col5\" class=\"data row0 col5\" >38911.202214</td>\n",
       "      <td id=\"T_12273_row0_col6\" class=\"data row0 col6\" >nan</td>\n",
       "      <td id=\"T_12273_row0_col7\" class=\"data row0 col7\" >0.000000</td>\n",
       "      <td id=\"T_12273_row0_col8\" class=\"data row0 col8\" >755</td>\n",
       "      <td id=\"T_12273_row0_col9\" class=\"data row0 col9\" >-22.982789</td>\n",
       "      <td id=\"T_12273_row0_col10\" class=\"data row0 col10\" >-0.000000</td>\n",
       "    </tr>\n",
       "    <tr>\n",
       "      <th id=\"T_12273_level0_row1\" class=\"row_heading level0 row1\" >1</th>\n",
       "      <td id=\"T_12273_row1_col0\" class=\"data row1 col0\" >2</td>\n",
       "      <td id=\"T_12273_row1_col1\" class=\"data row1 col1\" >284</td>\n",
       "      <td id=\"T_12273_row1_col2\" class=\"data row1 col2\" >546</td>\n",
       "      <td id=\"T_12273_row1_col3\" class=\"data row1 col3\" >36240.905998</td>\n",
       "      <td id=\"T_12273_row1_col4\" class=\"data row1 col4\" >36944.398427</td>\n",
       "      <td id=\"T_12273_row1_col5\" class=\"data row1 col5\" >37472.719440</td>\n",
       "      <td id=\"T_12273_row1_col6\" class=\"data row1 col6\" >0.854287</td>\n",
       "      <td id=\"T_12273_row1_col7\" class=\"data row1 col7\" >0.043047</td>\n",
       "      <td id=\"T_12273_row1_col8\" class=\"data row1 col8\" >680</td>\n",
       "      <td id=\"T_12273_row1_col9\" class=\"data row1 col9\" >-21.652353</td>\n",
       "      <td id=\"T_12273_row1_col10\" class=\"data row1 col10\" >5.788835</td>\n",
       "    </tr>\n",
       "    <tr>\n",
       "      <th id=\"T_12273_level0_row2\" class=\"row_heading level0 row2\" >2</th>\n",
       "      <td id=\"T_12273_row2_col0\" class=\"data row2 col0\" >3</td>\n",
       "      <td id=\"T_12273_row2_col1\" class=\"data row2 col1\" >191</td>\n",
       "      <td id=\"T_12273_row2_col2\" class=\"data row2 col2\" >335</td>\n",
       "      <td id=\"T_12273_row2_col3\" class=\"data row2 col3\" >35556.628027</td>\n",
       "      <td id=\"T_12273_row2_col4\" class=\"data row2 col4\" >36614.227384</td>\n",
       "      <td id=\"T_12273_row2_col5\" class=\"data row2 col5\" >37408.481793</td>\n",
       "      <td id=\"T_12273_row2_col6\" class=\"data row2 col6\" >0.839810</td>\n",
       "      <td id=\"T_12273_row2_col7\" class=\"data row2 col7\" >0.072163</td>\n",
       "      <td id=\"T_12273_row2_col8\" class=\"data row2 col8\" >605</td>\n",
       "      <td id=\"T_12273_row2_col9\" class=\"data row2 col9\" >-21.149776</td>\n",
       "      <td id=\"T_12273_row2_col10\" class=\"data row2 col10\" >7.975589</td>\n",
       "    </tr>\n",
       "    <tr>\n",
       "      <th id=\"T_12273_level0_row3\" class=\"row_heading level0 row3\" >3</th>\n",
       "      <td id=\"T_12273_row3_col0\" class=\"data row3 col0\" >4</td>\n",
       "      <td id=\"T_12273_row3_col1\" class=\"data row3 col1\" >127</td>\n",
       "      <td id=\"T_12273_row3_col2\" class=\"data row3 col2\" >307</td>\n",
       "      <td id=\"T_12273_row3_col3\" class=\"data row3 col3\" >35117.919085</td>\n",
       "      <td id=\"T_12273_row3_col4\" class=\"data row3 col4\" >36529.625370</td>\n",
       "      <td id=\"T_12273_row3_col5\" class=\"data row3 col5\" >37589.813174</td>\n",
       "      <td id=\"T_12273_row3_col6\" class=\"data row3 col6\" >0.868203</td>\n",
       "      <td id=\"T_12273_row3_col7\" class=\"data row3 col7\" >0.071435</td>\n",
       "      <td id=\"T_12273_row3_col8\" class=\"data row3 col8\" >530</td>\n",
       "      <td id=\"T_12273_row3_col9\" class=\"data row3 col9\" >-20.795132</td>\n",
       "      <td id=\"T_12273_row3_col10\" class=\"data row3 col10\" >9.518674</td>\n",
       "    </tr>\n",
       "    <tr>\n",
       "      <th id=\"T_12273_level0_row4\" class=\"row_heading level0 row4\" >4</th>\n",
       "      <td id=\"T_12273_row4_col0\" class=\"data row4 col0\" >5</td>\n",
       "      <td id=\"T_12273_row4_col1\" class=\"data row4 col1\" >112</td>\n",
       "      <td id=\"T_12273_row4_col2\" class=\"data row4 col2\" >287</td>\n",
       "      <td id=\"T_12273_row4_col3\" class=\"data row4 col3\" >35175.926405</td>\n",
       "      <td id=\"T_12273_row4_col4\" class=\"data row4 col4\" >36941.739617</td>\n",
       "      <td id=\"T_12273_row4_col5\" class=\"data row4 col5\" >38267.860818</td>\n",
       "      <td id=\"T_12273_row4_col6\" class=\"data row4 col6\" >0.863087</td>\n",
       "      <td id=\"T_12273_row4_col7\" class=\"data row4 col7\" >0.089190</td>\n",
       "      <td id=\"T_12273_row4_col8\" class=\"data row4 col8\" >455</td>\n",
       "      <td id=\"T_12273_row4_col9\" class=\"data row4 col9\" >-20.739715</td>\n",
       "      <td id=\"T_12273_row4_col10\" class=\"data row4 col10\" >9.759799</td>\n",
       "    </tr>\n",
       "    <tr>\n",
       "      <th id=\"T_12273_level0_row5\" class=\"row_heading level0 row5\" >5</th>\n",
       "      <td id=\"T_12273_row5_col0\" class=\"data row5 col0\" >6</td>\n",
       "      <td id=\"T_12273_row5_col1\" class=\"data row5 col1\" >33</td>\n",
       "      <td id=\"T_12273_row5_col2\" class=\"data row5 col2\" >303</td>\n",
       "      <td id=\"T_12273_row5_col3\" class=\"data row5 col3\" >34941.068848</td>\n",
       "      <td id=\"T_12273_row5_col4\" class=\"data row5 col4\" >37060.988988</td>\n",
       "      <td id=\"T_12273_row5_col5\" class=\"data row5 col5\" >38653.043584</td>\n",
       "      <td id=\"T_12273_row5_col6\" class=\"data row5 col6\" >0.868544</td>\n",
       "      <td id=\"T_12273_row5_col7\" class=\"data row5 col7\" >0.090967</td>\n",
       "      <td id=\"T_12273_row5_col8\" class=\"data row5 col8\" >380</td>\n",
       "      <td id=\"T_12273_row5_col9\" class=\"data row5 col9\" >-20.507873</td>\n",
       "      <td id=\"T_12273_row5_col10\" class=\"data row5 col10\" >10.768562</td>\n",
       "    </tr>\n",
       "    <tr>\n",
       "      <th id=\"T_12273_level0_row6\" class=\"row_heading level0 row6\" >6</th>\n",
       "      <td id=\"T_12273_row6_col0\" class=\"data row6 col0\" >7</td>\n",
       "      <td id=\"T_12273_row6_col1\" class=\"data row6 col1\" >33</td>\n",
       "      <td id=\"T_12273_row6_col2\" class=\"data row6 col2\" >224</td>\n",
       "      <td id=\"T_12273_row6_col3\" class=\"data row6 col3\" >34995.213761</td>\n",
       "      <td id=\"T_12273_row6_col4\" class=\"data row6 col4\" >37469.240828</td>\n",
       "      <td id=\"T_12273_row6_col5\" class=\"data row6 col5\" >39327.228820</td>\n",
       "      <td id=\"T_12273_row6_col6\" class=\"data row6 col6\" >0.874248</td>\n",
       "      <td id=\"T_12273_row6_col7\" class=\"data row6 col7\" >0.094893</td>\n",
       "      <td id=\"T_12273_row6_col8\" class=\"data row6 col8\" >305</td>\n",
       "      <td id=\"T_12273_row6_col9\" class=\"data row6 col9\" >-20.450129</td>\n",
       "      <td id=\"T_12273_row6_col10\" class=\"data row6 col10\" >11.019811</td>\n",
       "    </tr>\n",
       "    <tr>\n",
       "      <th id=\"T_12273_level0_row7\" class=\"row_heading level0 row7\" >7</th>\n",
       "      <td id=\"T_12273_row7_col0\" class=\"data row7 col0\" >8</td>\n",
       "      <td id=\"T_12273_row7_col1\" class=\"data row7 col1\" >30</td>\n",
       "      <td id=\"T_12273_row7_col2\" class=\"data row7 col2\" >176</td>\n",
       "      <td id=\"T_12273_row7_col3\" class=\"data row7 col3\" >34878.327670</td>\n",
       "      <td id=\"T_12273_row7_col4\" class=\"data row7 col4\" >37706.461665</td>\n",
       "      <td id=\"T_12273_row7_col5\" class=\"data row7 col5\" >39830.383053</td>\n",
       "      <td id=\"T_12273_row7_col6\" class=\"data row7 col6\" >0.883706</td>\n",
       "      <td id=\"T_12273_row7_col7\" class=\"data row7 col7\" >0.092656</td>\n",
       "      <td id=\"T_12273_row7_col8\" class=\"data row7 col8\" >230</td>\n",
       "      <td id=\"T_12273_row7_col9\" class=\"data row7 col9\" >-20.289354</td>\n",
       "      <td id=\"T_12273_row7_col10\" class=\"data row7 col10\" >11.719355</td>\n",
       "    </tr>\n",
       "  </tbody>\n",
       "</table>\n"
      ],
      "text/plain": [
       "<pandas.io.formats.style.Styler at 0x7f73fc781be0>"
      ]
     },
     "execution_count": 6,
     "metadata": {},
     "output_type": "execute_result"
    }
   ],
   "source": [
    "replic_LCA.style"
   ]
  },
  {
   "cell_type": "markdown",
   "id": "54021ebe-9437-4506-b150-e387fdef6a11",
   "metadata": {},
   "source": [
    "## BLRT"
   ]
  },
  {
   "cell_type": "code",
   "execution_count": 7,
   "id": "0b50389e-e170-4393-911a-7ec72cd9ac21",
   "metadata": {},
   "outputs": [],
   "source": [
    "opt_params = {\n",
    "    'method': 'gradient',\n",
    "    'intercept': True,\n",
    "    'max_iter': 500}\n",
    "\n",
    "latent_mod = StepMix(\n",
    "    measurement = 'categorical',\n",
    "    n_init = 5,\n",
    "    abs_tol = 1e-4,\n",
    "    rel_tol = 1e-4,\n",
    "    init_params = 'kmeans',\n",
    "    structural_params = opt_params,\n",
    "    progress_bar = 0)"
   ]
  },
  {
   "cell_type": "code",
   "execution_count": 8,
   "id": "c10f5f47-c871-4e62-87e8-ab13f3b7325b",
   "metadata": {
    "scrolled": true
   },
   "outputs": [
    {
     "name": "stdout",
     "output_type": "stream",
     "text": [
      "\n",
      "Bootstrapping estimator...\n"
     ]
    },
    {
     "name": "stderr",
     "output_type": "stream",
     "text": [
      "Bootstrap Repetitions    :  43%|████▎     | 431/1000 [01:01<00:55, 10.16it/s, max_LL=-1.74e+4, median_LL=-1.79e+4, min_LL=-1.84e+4]"
     ]
    },
    {
     "name": "stdout",
     "output_type": "stream",
     "text": [
      "\n",
      "Bootstrapping estimator...\n"
     ]
    },
    {
     "name": "stderr",
     "output_type": "stream",
     "text": [
      "Bootstrap Repetitions    : 100%|██████████| 1000/1000 [02:14<00:00,  7.44it/s, max_LL=-1.74e+4, median_LL=-1.79e+4, min_LL=-1.84e+4]\n",
      "Bootstrap Repetitions    :  37%|███▋      | 366/1000 [01:17<02:23,  4.43it/s, max_LL=-1.7e+4, median_LL=-1.74e+4, min_LL=-1.79e+4]"
     ]
    },
    {
     "name": "stdout",
     "output_type": "stream",
     "text": [
      "\n",
      "Bootstrapping estimator...\n"
     ]
    },
    {
     "name": "stderr",
     "output_type": "stream",
     "text": [
      "Bootstrap Repetitions    :  18%|█▊        | 180/1000 [00:37<02:45,  4.94it/s, max_LL=-1.67e+4, median_LL=-1.71e+4, min_LL=-1.75e+4]"
     ]
    },
    {
     "name": "stdout",
     "output_type": "stream",
     "text": [
      "\n",
      "Bootstrapping estimator...\n"
     ]
    },
    {
     "name": "stderr",
     "output_type": "stream",
     "text": [
      "Bootstrap Repetitions    :   0%|          | 0/1000 [00:00<?, ?it/s] 6.50it/s, max_LL=-1.7e+4, median_LL=-1.74e+4, min_LL=-1.8e+4]4]"
     ]
    },
    {
     "name": "stdout",
     "output_type": "stream",
     "text": [
      "\n",
      "Bootstrapping estimator...\n"
     ]
    },
    {
     "name": "stderr",
     "output_type": "stream",
     "text": [
      "Bootstrap Repetitions    : 100%|██████████| 1000/1000 [02:56<00:00,  5.67it/s, max_LL=-1.7e+4, median_LL=-1.74e+4, min_LL=-1.8e+4]]\n",
      "Bootstrap Repetitions    :  22%|██▏       | 218/1000 [01:07<05:19,  2.45it/s, max_LL=-1.64e+4, median_LL=-1.68e+4, min_LL=-1.72e+4]"
     ]
    },
    {
     "name": "stdout",
     "output_type": "stream",
     "text": [
      "\n",
      "Bootstrapping estimator...\n"
     ]
    },
    {
     "name": "stderr",
     "output_type": "stream",
     "text": [
      "Bootstrap Repetitions    :   1%|          | 10/1000 [00:03<06:01,  2.74it/s, max_LL=-1.63e+4, median_LL=-1.66e+4, min_LL=-1.68e+4]]"
     ]
    },
    {
     "name": "stdout",
     "output_type": "stream",
     "text": [
      "\n",
      "Bootstrapping estimator...\n"
     ]
    },
    {
     "name": "stderr",
     "output_type": "stream",
     "text": [
      "Bootstrap Repetitions    : 100%|██████████| 1000/1000 [03:49<00:00,  4.35it/s, max_LL=-1.67e+4, median_LL=-1.71e+4, min_LL=-1.77e+4]\n",
      "Bootstrap Repetitions    : 100%|██████████| 1000/1000 [04:11<00:00,  3.98it/s, max_LL=-1.65e+4, median_LL=-1.7e+4, min_LL=-1.75e+4]\n",
      "Bootstrap Repetitions    : 100%|██████████| 1000/1000 [05:23<00:00,  3.09it/s, max_LL=-1.64e+4, median_LL=-1.68e+4, min_LL=-1.73e+4]\n",
      "Bootstrap Repetitions    : 100%|██████████| 1000/1000 [05:38<00:00,  2.95it/s, max_LL=-1.62e+4, median_LL=-1.66e+4, min_LL=-1.71e+4]\n",
      "Bootstrap Repetitions    : 100%|██████████| 1000/1000 [05:53<00:00,  2.83it/s, max_LL=-1.62e+4, median_LL=-1.67e+4, min_LL=-1.72e+4]\n"
     ]
    }
   ],
   "source": [
    "s_time = time.time()\n",
    "BLRT = blrt_sweep_custom(\n",
    "    latent_mod,\n",
    "    data_f,\n",
    "    low = 1,\n",
    "    high = 8,\n",
    "    n_repetitions = bootstrap_iters,\n",
    "    n_jobs = max_threads)\n",
    "e_time = time.time()"
   ]
  },
  {
   "cell_type": "code",
   "execution_count": 9,
   "id": "e8b06de4-27c0-4cb3-858b-5ed6d1fdcd05",
   "metadata": {},
   "outputs": [
    {
     "name": "stdout",
     "output_type": "stream",
     "text": [
      "Total execution time: 11.92 minutes\n"
     ]
    }
   ],
   "source": [
    "print(f\"Total execution time: {(e_time - s_time) / 60:.2f} minutes\")"
   ]
  },
  {
   "cell_type": "code",
   "execution_count": 10,
   "id": "566d7fb0-14be-4025-bec7-a98cfc01c74b",
   "metadata": {},
   "outputs": [
    {
     "data": {
      "text/html": [
       "<style type=\"text/css\">\n",
       "</style>\n",
       "<table id=\"T_fb91e\">\n",
       "  <thead>\n",
       "    <tr>\n",
       "      <th id=\"T_fb91e_level0_col0\" class=\"col_heading level0 col0\" >n clust</th>\n",
       "      <th id=\"T_fb91e_level0_col1\" class=\"col_heading level0 col1\" >p</th>\n",
       "    </tr>\n",
       "  </thead>\n",
       "  <tbody>\n",
       "    <tr>\n",
       "      <td id=\"T_fb91e_row0_col0\" class=\"data row0 col0\" >2 vs. 1 clust</td>\n",
       "      <td id=\"T_fb91e_row0_col1\" class=\"data row0 col1\" >0.559</td>\n",
       "    </tr>\n",
       "    <tr>\n",
       "      <td id=\"T_fb91e_row1_col0\" class=\"data row1 col0\" >3 vs. 2 clust</td>\n",
       "      <td id=\"T_fb91e_row1_col1\" class=\"data row1 col1\" >0.651</td>\n",
       "    </tr>\n",
       "    <tr>\n",
       "      <td id=\"T_fb91e_row2_col0\" class=\"data row2 col0\" >4 vs. 3 clust</td>\n",
       "      <td id=\"T_fb91e_row2_col1\" class=\"data row2 col1\" >0.057</td>\n",
       "    </tr>\n",
       "    <tr>\n",
       "      <td id=\"T_fb91e_row3_col0\" class=\"data row3 col0\" >5 vs. 4 clust</td>\n",
       "      <td id=\"T_fb91e_row3_col1\" class=\"data row3 col1\" >0.916</td>\n",
       "    </tr>\n",
       "    <tr>\n",
       "      <td id=\"T_fb91e_row4_col0\" class=\"data row4 col0\" >6 vs. 5 clust</td>\n",
       "      <td id=\"T_fb91e_row4_col1\" class=\"data row4 col1\" >0.731</td>\n",
       "    </tr>\n",
       "    <tr>\n",
       "      <td id=\"T_fb91e_row5_col0\" class=\"data row5 col0\" >7 vs. 6 clust</td>\n",
       "      <td id=\"T_fb91e_row5_col1\" class=\"data row5 col1\" >0.881</td>\n",
       "    </tr>\n",
       "    <tr>\n",
       "      <td id=\"T_fb91e_row6_col0\" class=\"data row6 col0\" >8 vs. 7 clust</td>\n",
       "      <td id=\"T_fb91e_row6_col1\" class=\"data row6 col1\" >0.689</td>\n",
       "    </tr>\n",
       "  </tbody>\n",
       "</table>\n"
      ],
      "text/plain": [
       "<pandas.io.formats.style.Styler at 0x7f740e1a8f50>"
      ]
     },
     "execution_count": 10,
     "metadata": {},
     "output_type": "execute_result"
    }
   ],
   "source": [
    "BLRT_res = pd.concat([pd.DataFrame({'p': [np.nan]}), BLRT]).reset_index(drop=True) # Add a row for the saturated model\n",
    "BLRT_res[\"n clust\"] = [f\"{i+1} vs. {i} clust\" for i in BLRT_res.index]\n",
    "BLRT_res = BLRT_res.iloc[1:]\n",
    "BLRT_res = BLRT_res[[\"n clust\", \"p\"]]\n",
    "BLRT_res.to_csv(\"output/models/BLRT_830.csv\", index=False)\n",
    "\n",
    "BLRT_res.style.hide(axis=0).format({\"p\": \"{:.3f}\"})"
   ]
  },
  {
   "cell_type": "code",
   "execution_count": 11,
   "id": "e52be3de-aa6c-4a82-b77e-a4fccf6f8f39",
   "metadata": {},
   "outputs": [
    {
     "name": "stdout",
     "output_type": "stream",
     "text": [
      "Optimal number of clusters for LCA without covariates and sample weights is 1 according to BLRT.\n"
     ]
    }
   ],
   "source": [
    "if BLRT_res[BLRT_res['p'] > 0.05].empty:\n",
    "    best_LCA = None\n",
    "else:\n",
    "    best_LCA = BLRT_res[BLRT_res['p'] > 0.05]\n",
    "    best_LCA = best_LCA.index[0]\n",
    "\n",
    "print(f\"Optimal number of clusters for LCA without covariates and sample weights is {best_LCA} according to BLRT.\")"
   ]
  },
  {
   "cell_type": "markdown",
   "id": "0cf745ff-64c4-46fb-8449-65d24d5a3391",
   "metadata": {},
   "source": [
    "# n = 1077"
   ]
  },
  {
   "cell_type": "code",
   "execution_count": 12,
   "id": "c9f383fd-25c1-4fc5-b941-d0fa14b2dfc6",
   "metadata": {},
   "outputs": [],
   "source": [
    "data2004 = pd.read_parquet(f\"data/data2004_1077.parquet\")\n",
    "data_f = data2004[var_list_n] - 1 # reindexing to 0 (as expected by StepMix)"
   ]
  },
  {
   "cell_type": "code",
   "execution_count": 13,
   "id": "bad93c09-f2bf-4517-9e25-8d609041d23f",
   "metadata": {},
   "outputs": [
    {
     "name": "stderr",
     "output_type": "stream",
     "text": [
      "Fitting latent models: 100%|██████████| 8/8 [00:00<00:00, 6818.62it/s]\n"
     ]
    }
   ],
   "source": [
    "results = Parallel(n_jobs=max_threads)(\n",
    "    delayed(do_StepMix)(\n",
    "        data = data_f,\n",
    "        controls = None,\n",
    "        n = n_clust,\n",
    "        msrt = 'categorical',\n",
    "        covar = 'without',\n",
    "        weights = None)\n",
    "    for n_clust in tqdm(range(1,9), desc='Fitting latent models'))\n",
    "\n",
    "replic_LCA = pd.DataFrame(results).drop(columns = ['model', 'params', 'silhouette', 'calinski_harabasz', 'davies_bouldin', 'dunn'])\n",
    "replic_LCA['l2_red'] = 100 * (replic_LCA['LL'].iloc[0] - replic_LCA['LL']) / replic_LCA['LL'].iloc[0]"
   ]
  },
  {
   "cell_type": "code",
   "execution_count": 14,
   "id": "5403d44a-35e7-40d9-9df6-63cfbed08f25",
   "metadata": {},
   "outputs": [
    {
     "data": {
      "text/html": [
       "<style type=\"text/css\">\n",
       "</style>\n",
       "<table id=\"T_ecb99\">\n",
       "  <thead>\n",
       "    <tr>\n",
       "      <th class=\"blank level0\" >&nbsp;</th>\n",
       "      <th id=\"T_ecb99_level0_col0\" class=\"col_heading level0 col0\" >n_clust</th>\n",
       "      <th id=\"T_ecb99_level0_col1\" class=\"col_heading level0 col1\" >min_clust_size</th>\n",
       "      <th id=\"T_ecb99_level0_col2\" class=\"col_heading level0 col2\" >max_clust_size</th>\n",
       "      <th id=\"T_ecb99_level0_col3\" class=\"col_heading level0 col3\" >aic</th>\n",
       "      <th id=\"T_ecb99_level0_col4\" class=\"col_heading level0 col4\" >bic</th>\n",
       "      <th id=\"T_ecb99_level0_col5\" class=\"col_heading level0 col5\" >sabic</th>\n",
       "      <th id=\"T_ecb99_level0_col6\" class=\"col_heading level0 col6\" >relative_entropy</th>\n",
       "      <th id=\"T_ecb99_level0_col7\" class=\"col_heading level0 col7\" >classif_error</th>\n",
       "      <th id=\"T_ecb99_level0_col8\" class=\"col_heading level0 col8\" >df</th>\n",
       "      <th id=\"T_ecb99_level0_col9\" class=\"col_heading level0 col9\" >LL</th>\n",
       "      <th id=\"T_ecb99_level0_col10\" class=\"col_heading level0 col10\" >l2_red</th>\n",
       "    </tr>\n",
       "  </thead>\n",
       "  <tbody>\n",
       "    <tr>\n",
       "      <th id=\"T_ecb99_level0_row0\" class=\"row_heading level0 row0\" >0</th>\n",
       "      <td id=\"T_ecb99_row0_col0\" class=\"data row0 col0\" >1</td>\n",
       "      <td id=\"T_ecb99_row0_col1\" class=\"data row0 col1\" >1077</td>\n",
       "      <td id=\"T_ecb99_row0_col2\" class=\"data row0 col2\" >1077</td>\n",
       "      <td id=\"T_ecb99_row0_col3\" class=\"data row0 col3\" >51154.814721</td>\n",
       "      <td id=\"T_ecb99_row0_col4\" class=\"data row0 col4\" >51523.477887</td>\n",
       "      <td id=\"T_ecb99_row0_col5\" class=\"data row0 col5\" >51805.102361</td>\n",
       "      <td id=\"T_ecb99_row0_col6\" class=\"data row0 col6\" >nan</td>\n",
       "      <td id=\"T_ecb99_row0_col7\" class=\"data row0 col7\" >0.000000</td>\n",
       "      <td id=\"T_ecb99_row0_col8\" class=\"data row0 col8\" >1002</td>\n",
       "      <td id=\"T_ecb99_row0_col9\" class=\"data row0 col9\" >-23.680044</td>\n",
       "      <td id=\"T_ecb99_row0_col10\" class=\"data row0 col10\" >-0.000000</td>\n",
       "    </tr>\n",
       "    <tr>\n",
       "      <th id=\"T_ecb99_level0_row1\" class=\"row_heading level0 row1\" >1</th>\n",
       "      <td id=\"T_ecb99_row1_col0\" class=\"data row1 col0\" >2</td>\n",
       "      <td id=\"T_ecb99_row1_col1\" class=\"data row1 col1\" >381</td>\n",
       "      <td id=\"T_ecb99_row1_col2\" class=\"data row1 col2\" >696</td>\n",
       "      <td id=\"T_ecb99_row1_col3\" class=\"data row1 col3\" >48211.695403</td>\n",
       "      <td id=\"T_ecb99_row1_col4\" class=\"data row1 col4\" >48954.003670</td>\n",
       "      <td id=\"T_ecb99_row1_col5\" class=\"data row1 col5\" >49521.058354</td>\n",
       "      <td id=\"T_ecb99_row1_col6\" class=\"data row1 col6\" >0.865900</td>\n",
       "      <td id=\"T_ecb99_row1_col7\" class=\"data row1 col7\" >0.037523</td>\n",
       "      <td id=\"T_ecb99_row1_col8\" class=\"data row1 col8\" >927</td>\n",
       "      <td id=\"T_ecb99_row1_col9\" class=\"data row1 col9\" >-22.244055</td>\n",
       "      <td id=\"T_ecb99_row1_col10\" class=\"data row1 col10\" >6.064130</td>\n",
       "    </tr>\n",
       "    <tr>\n",
       "      <th id=\"T_ecb99_level0_row2\" class=\"row_heading level0 row2\" >2</th>\n",
       "      <td id=\"T_ecb99_row2_col0\" class=\"data row2 col0\" >3</td>\n",
       "      <td id=\"T_ecb99_row2_col1\" class=\"data row2 col1\" >257</td>\n",
       "      <td id=\"T_ecb99_row2_col2\" class=\"data row2 col2\" >434</td>\n",
       "      <td id=\"T_ecb99_row2_col3\" class=\"data row2 col3\" >47237.532850</td>\n",
       "      <td id=\"T_ecb99_row2_col4\" class=\"data row2 col4\" >48353.486217</td>\n",
       "      <td id=\"T_ecb99_row2_col5\" class=\"data row2 col5\" >49205.971111</td>\n",
       "      <td id=\"T_ecb99_row2_col6\" class=\"data row2 col6\" >0.842141</td>\n",
       "      <td id=\"T_ecb99_row2_col7\" class=\"data row2 col7\" >0.071655</td>\n",
       "      <td id=\"T_ecb99_row2_col8\" class=\"data row2 col8\" >852</td>\n",
       "      <td id=\"T_ecb99_row2_col9\" class=\"data row2 col9\" >-21.722160</td>\n",
       "      <td id=\"T_ecb99_row2_col10\" class=\"data row2 col10\" >8.268075</td>\n",
       "    </tr>\n",
       "    <tr>\n",
       "      <th id=\"T_ecb99_level0_row3\" class=\"row_heading level0 row3\" >3</th>\n",
       "      <td id=\"T_ecb99_row3_col0\" class=\"data row3 col0\" >4</td>\n",
       "      <td id=\"T_ecb99_row3_col1\" class=\"data row3 col1\" >183</td>\n",
       "      <td id=\"T_ecb99_row3_col2\" class=\"data row3 col2\" >407</td>\n",
       "      <td id=\"T_ecb99_row3_col3\" class=\"data row3 col3\" >46681.025488</td>\n",
       "      <td id=\"T_ecb99_row3_col4\" class=\"data row3 col4\" >48170.623956</td>\n",
       "      <td id=\"T_ecb99_row3_col5\" class=\"data row3 col5\" >49308.539060</td>\n",
       "      <td id=\"T_ecb99_row3_col6\" class=\"data row3 col6\" >0.862456</td>\n",
       "      <td id=\"T_ecb99_row3_col7\" class=\"data row3 col7\" >0.078173</td>\n",
       "      <td id=\"T_ecb99_row3_col8\" class=\"data row3 col8\" >777</td>\n",
       "      <td id=\"T_ecb99_row3_col9\" class=\"data row3 col9\" >-21.394162</td>\n",
       "      <td id=\"T_ecb99_row3_col10\" class=\"data row3 col10\" >9.653199</td>\n",
       "    </tr>\n",
       "    <tr>\n",
       "      <th id=\"T_ecb99_level0_row4\" class=\"row_heading level0 row4\" >4</th>\n",
       "      <td id=\"T_ecb99_row4_col0\" class=\"data row4 col0\" >5</td>\n",
       "      <td id=\"T_ecb99_row4_col1\" class=\"data row4 col1\" >91</td>\n",
       "      <td id=\"T_ecb99_row4_col2\" class=\"data row4 col2\" >369</td>\n",
       "      <td id=\"T_ecb99_row4_col3\" class=\"data row4 col3\" >46230.041596</td>\n",
       "      <td id=\"T_ecb99_row4_col4\" class=\"data row4 col4\" >48093.285165</td>\n",
       "      <td id=\"T_ecb99_row4_col5\" class=\"data row4 col5\" >49516.630480</td>\n",
       "      <td id=\"T_ecb99_row4_col6\" class=\"data row4 col6\" >0.882576</td>\n",
       "      <td id=\"T_ecb99_row4_col7\" class=\"data row4 col7\" >0.073703</td>\n",
       "      <td id=\"T_ecb99_row4_col8\" class=\"data row4 col8\" >702</td>\n",
       "      <td id=\"T_ecb99_row4_col9\" class=\"data row4 col9\" >-21.115154</td>\n",
       "      <td id=\"T_ecb99_row4_col10\" class=\"data row4 col10\" >10.831441</td>\n",
       "    </tr>\n",
       "    <tr>\n",
       "      <th id=\"T_ecb99_level0_row5\" class=\"row_heading level0 row5\" >5</th>\n",
       "      <td id=\"T_ecb99_row5_col0\" class=\"data row5 col0\" >6</td>\n",
       "      <td id=\"T_ecb99_row5_col1\" class=\"data row5 col1\" >147</td>\n",
       "      <td id=\"T_ecb99_row5_col2\" class=\"data row5 col2\" >214</td>\n",
       "      <td id=\"T_ecb99_row5_col3\" class=\"data row5 col3\" >46303.967702</td>\n",
       "      <td id=\"T_ecb99_row5_col4\" class=\"data row5 col4\" >48540.856372</td>\n",
       "      <td id=\"T_ecb99_row5_col5\" class=\"data row5 col5\" >50249.631896</td>\n",
       "      <td id=\"T_ecb99_row5_col6\" class=\"data row5 col6\" >0.855875</td>\n",
       "      <td id=\"T_ecb99_row5_col7\" class=\"data row5 col7\" >0.099772</td>\n",
       "      <td id=\"T_ecb99_row5_col8\" class=\"data row5 col8\" >627</td>\n",
       "      <td id=\"T_ecb99_row5_col9\" class=\"data row5 col9\" >-21.079836</td>\n",
       "      <td id=\"T_ecb99_row5_col10\" class=\"data row5 col10\" >10.980586</td>\n",
       "    </tr>\n",
       "    <tr>\n",
       "      <th id=\"T_ecb99_level0_row6\" class=\"row_heading level0 row6\" >6</th>\n",
       "      <td id=\"T_ecb99_row6_col0\" class=\"data row6 col0\" >7</td>\n",
       "      <td id=\"T_ecb99_row6_col1\" class=\"data row6 col1\" >83</td>\n",
       "      <td id=\"T_ecb99_row6_col2\" class=\"data row6 col2\" >230</td>\n",
       "      <td id=\"T_ecb99_row6_col3\" class=\"data row6 col3\" >46076.892515</td>\n",
       "      <td id=\"T_ecb99_row6_col4\" class=\"data row6 col4\" >48687.426286</td>\n",
       "      <td id=\"T_ecb99_row6_col5\" class=\"data row6 col5\" >50681.632021</td>\n",
       "      <td id=\"T_ecb99_row6_col6\" class=\"data row6 col6\" >0.860263</td>\n",
       "      <td id=\"T_ecb99_row6_col7\" class=\"data row6 col7\" >0.106450</td>\n",
       "      <td id=\"T_ecb99_row6_col8\" class=\"data row6 col8\" >552</td>\n",
       "      <td id=\"T_ecb99_row6_col9\" class=\"data row6 col9\" >-20.904778</td>\n",
       "      <td id=\"T_ecb99_row6_col10\" class=\"data row6 col10\" >11.719850</td>\n",
       "    </tr>\n",
       "    <tr>\n",
       "      <th id=\"T_ecb99_level0_row7\" class=\"row_heading level0 row7\" >7</th>\n",
       "      <td id=\"T_ecb99_row7_col0\" class=\"data row7 col0\" >8</td>\n",
       "      <td id=\"T_ecb99_row7_col1\" class=\"data row7 col1\" >74</td>\n",
       "      <td id=\"T_ecb99_row7_col2\" class=\"data row7 col2\" >237</td>\n",
       "      <td id=\"T_ecb99_row7_col3\" class=\"data row7 col3\" >46021.242465</td>\n",
       "      <td id=\"T_ecb99_row7_col4\" class=\"data row7 col4\" >49005.421337</td>\n",
       "      <td id=\"T_ecb99_row7_col5\" class=\"data row7 col5\" >51285.057281</td>\n",
       "      <td id=\"T_ecb99_row7_col6\" class=\"data row7 col6\" >0.872020</td>\n",
       "      <td id=\"T_ecb99_row7_col7\" class=\"data row7 col7\" >0.103059</td>\n",
       "      <td id=\"T_ecb99_row7_col8\" class=\"data row7 col8\" >477</td>\n",
       "      <td id=\"T_ecb99_row7_col9\" class=\"data row7 col9\" >-20.809305</td>\n",
       "      <td id=\"T_ecb99_row7_col10\" class=\"data row7 col10\" >12.123032</td>\n",
       "    </tr>\n",
       "  </tbody>\n",
       "</table>\n"
      ],
      "text/plain": [
       "<pandas.io.formats.style.Styler at 0x7f740e7034d0>"
      ]
     },
     "execution_count": 14,
     "metadata": {},
     "output_type": "execute_result"
    }
   ],
   "source": [
    "replic_LCA.style"
   ]
  },
  {
   "cell_type": "markdown",
   "id": "d2302181-6a9d-494d-94cd-da9d69db348b",
   "metadata": {},
   "source": [
    "## BLRT"
   ]
  },
  {
   "cell_type": "code",
   "execution_count": 15,
   "id": "8f587f0b-2697-4e2e-b606-b952aaf68bee",
   "metadata": {
    "scrolled": true
   },
   "outputs": [
    {
     "name": "stdout",
     "output_type": "stream",
     "text": [
      "\n",
      "Bootstrapping estimator...\n"
     ]
    },
    {
     "name": "stderr",
     "output_type": "stream",
     "text": [
      "Bootstrap Repetitions    :   0%|          | 0/1000 [00:00<?, ?it/s] 4.21it/s, max_LL=-2.32e+4, median_LL=-2.39e+4, min_LL=-2.44e+4]"
     ]
    },
    {
     "name": "stdout",
     "output_type": "stream",
     "text": [
      "\n",
      "Bootstrapping estimator...\n"
     ]
    },
    {
     "name": "stderr",
     "output_type": "stream",
     "text": [
      "Bootstrap Repetitions    : 100%|██████████| 1000/1000 [02:16<00:00,  7.31it/s, max_LL=-2.32e+4, median_LL=-2.39e+4, min_LL=-2.45e+4]\n",
      "Bootstrap Repetitions    :   0%|          | 1/1000 [00:00<02:14,  7.40it/s, max_LL=-2.29e+4, median_LL=-2.29e+4, min_LL=-2.29e+4]4]"
     ]
    },
    {
     "name": "stdout",
     "output_type": "stream",
     "text": [
      "\n",
      "Bootstrapping estimator...\n"
     ]
    },
    {
     "name": "stderr",
     "output_type": "stream",
     "text": [
      "Bootstrap Repetitions    :   8%|▊         | 76/1000 [00:11<02:11,  7.00it/s, max_LL=-2.23e+4, median_LL=-2.28e+4, min_LL=-2.32e+4]]"
     ]
    },
    {
     "name": "stdout",
     "output_type": "stream",
     "text": [
      "\n",
      "Bootstrapping estimator...\n"
     ]
    },
    {
     "name": "stderr",
     "output_type": "stream",
     "text": [
      "Bootstrap Repetitions    :  76%|███████▌  | 762/1000 [01:38<00:28,  8.33it/s, max_LL=-2.25e+4, median_LL=-2.33e+4, min_LL=-2.38e+4]"
     ]
    },
    {
     "name": "stdout",
     "output_type": "stream",
     "text": [
      "\n",
      "Bootstrapping estimator...\n"
     ]
    },
    {
     "name": "stderr",
     "output_type": "stream",
     "text": [
      "Bootstrap Repetitions    : 100%|██████████| 1000/1000 [02:07<00:00,  7.83it/s, max_LL=-2.25e+4, median_LL=-2.33e+4, min_LL=-2.38e+4]\n",
      "Bootstrap Repetitions    :  44%|████▍     | 445/1000 [01:26<01:38,  5.66it/s, max_LL=-2.21e+4, median_LL=-2.26e+4, min_LL=-2.31e+4]"
     ]
    },
    {
     "name": "stdout",
     "output_type": "stream",
     "text": [
      "\n",
      "Bootstrapping estimator...\n"
     ]
    },
    {
     "name": "stderr",
     "output_type": "stream",
     "text": [
      "Bootstrap Repetitions    :  14%|█▍        | 144/1000 [00:39<04:11,  3.41it/s, max_LL=-2.18e+4, median_LL=-2.23e+4, min_LL=-2.27e+4]"
     ]
    },
    {
     "name": "stdout",
     "output_type": "stream",
     "text": [
      "\n",
      "Bootstrapping estimator...\n"
     ]
    },
    {
     "name": "stderr",
     "output_type": "stream",
     "text": [
      "Bootstrap Repetitions    : 100%|██████████| 1000/1000 [02:29<00:00,  6.70it/s, max_LL=-2.22e+4, median_LL=-2.29e+4, min_LL=-2.34e+4]\n",
      "Bootstrap Repetitions    : 100%|██████████| 1000/1000 [03:14<00:00,  5.14it/s, max_LL=-2.21e+4, median_LL=-2.26e+4, min_LL=-2.31e+4]\n",
      "Bootstrap Repetitions    : 100%|██████████| 1000/1000 [04:05<00:00,  4.07it/s, max_LL=-2.19e+4, median_LL=-2.24e+4, min_LL=-2.29e+4]\n",
      "Bootstrap Repetitions    : 100%|██████████| 1000/1000 [04:47<00:00,  3.48it/s, max_LL=-2.17e+4, median_LL=-2.23e+4, min_LL=-2.28e+4]\n",
      "Bootstrap Repetitions    : 100%|██████████| 1000/1000 [05:07<00:00,  3.25it/s, max_LL=-2.16e+4, median_LL=-2.21e+4, min_LL=-2.26e+4]\n"
     ]
    }
   ],
   "source": [
    "s_time = time.time()\n",
    "BLRT = blrt_sweep_custom(\n",
    "    latent_mod,\n",
    "    data_f,\n",
    "    low = 1,\n",
    "    high = 8,\n",
    "    n_repetitions = bootstrap_iters,\n",
    "    n_jobs = max_threads)\n",
    "e_time = time.time()"
   ]
  },
  {
   "cell_type": "code",
   "execution_count": 16,
   "id": "86b86c82-40c9-4a3e-bb34-6a0990d4a2bf",
   "metadata": {},
   "outputs": [
    {
     "name": "stdout",
     "output_type": "stream",
     "text": [
      "Total execution time: 10.96 minutes\n"
     ]
    }
   ],
   "source": [
    "print(f\"Total execution time: {(e_time - s_time) / 60:.2f} minutes\")"
   ]
  },
  {
   "cell_type": "code",
   "execution_count": 17,
   "id": "4a09bfe6-cf1e-40cc-bedc-deeb61ec7398",
   "metadata": {},
   "outputs": [
    {
     "data": {
      "text/html": [
       "<style type=\"text/css\">\n",
       "</style>\n",
       "<table id=\"T_1d2e3\">\n",
       "  <thead>\n",
       "    <tr>\n",
       "      <th id=\"T_1d2e3_level0_col0\" class=\"col_heading level0 col0\" >n clust</th>\n",
       "      <th id=\"T_1d2e3_level0_col1\" class=\"col_heading level0 col1\" >p</th>\n",
       "    </tr>\n",
       "  </thead>\n",
       "  <tbody>\n",
       "    <tr>\n",
       "      <td id=\"T_1d2e3_row0_col0\" class=\"data row0 col0\" >2 vs. 1 clust</td>\n",
       "      <td id=\"T_1d2e3_row0_col1\" class=\"data row0 col1\" >0.937</td>\n",
       "    </tr>\n",
       "    <tr>\n",
       "      <td id=\"T_1d2e3_row1_col0\" class=\"data row1 col0\" >3 vs. 2 clust</td>\n",
       "      <td id=\"T_1d2e3_row1_col1\" class=\"data row1 col1\" >0.513</td>\n",
       "    </tr>\n",
       "    <tr>\n",
       "      <td id=\"T_1d2e3_row2_col0\" class=\"data row2 col0\" >4 vs. 3 clust</td>\n",
       "      <td id=\"T_1d2e3_row2_col1\" class=\"data row2 col1\" >0.943</td>\n",
       "    </tr>\n",
       "    <tr>\n",
       "      <td id=\"T_1d2e3_row3_col0\" class=\"data row3 col0\" >5 vs. 4 clust</td>\n",
       "      <td id=\"T_1d2e3_row3_col1\" class=\"data row3 col1\" >0.211</td>\n",
       "    </tr>\n",
       "    <tr>\n",
       "      <td id=\"T_1d2e3_row4_col0\" class=\"data row4 col0\" >6 vs. 5 clust</td>\n",
       "      <td id=\"T_1d2e3_row4_col1\" class=\"data row4 col1\" >0.821</td>\n",
       "    </tr>\n",
       "    <tr>\n",
       "      <td id=\"T_1d2e3_row5_col0\" class=\"data row5 col0\" >7 vs. 6 clust</td>\n",
       "      <td id=\"T_1d2e3_row5_col1\" class=\"data row5 col1\" >0.832</td>\n",
       "    </tr>\n",
       "    <tr>\n",
       "      <td id=\"T_1d2e3_row6_col0\" class=\"data row6 col0\" >8 vs. 7 clust</td>\n",
       "      <td id=\"T_1d2e3_row6_col1\" class=\"data row6 col1\" >0.677</td>\n",
       "    </tr>\n",
       "  </tbody>\n",
       "</table>\n"
      ],
      "text/plain": [
       "<pandas.io.formats.style.Styler at 0x7f740e1a8a50>"
      ]
     },
     "execution_count": 17,
     "metadata": {},
     "output_type": "execute_result"
    }
   ],
   "source": [
    "BLRT_res = pd.concat([pd.DataFrame({'p': [np.nan]}), BLRT]).reset_index(drop=True) # Add a row for the saturated model\n",
    "BLRT_res[\"n clust\"] = [f\"{i+1} vs. {i} clust\" for i in BLRT_res.index]\n",
    "BLRT_res = BLRT_res.iloc[1:]\n",
    "BLRT_res = BLRT_res[[\"n clust\", \"p\"]]\n",
    "BLRT_res.to_csv(\"output/models/BLRT_1077.csv\", index=False)\n",
    "\n",
    "BLRT_res.style.hide(axis=0).format({\"p\": \"{:.3f}\"})"
   ]
  },
  {
   "cell_type": "code",
   "execution_count": 18,
   "id": "448c996f-2f90-418d-8754-e1ac8dcd3798",
   "metadata": {},
   "outputs": [
    {
     "name": "stdout",
     "output_type": "stream",
     "text": [
      "Optimal number of clusters for LCA without covariates and sample weights is 1 according to BLRT.\n"
     ]
    }
   ],
   "source": [
    "if BLRT_res[BLRT_res['p'] > 0.05].empty:\n",
    "    best_LCA = None\n",
    "else:\n",
    "    best_LCA = BLRT_res[BLRT_res['p'] > 0.05]\n",
    "    best_LCA = best_LCA.index[0]\n",
    "\n",
    "print(f\"Optimal number of clusters for LCA without covariates and sample weights is {best_LCA} according to BLRT.\")"
   ]
  },
  {
   "cell_type": "markdown",
   "id": "81594333-097a-465d-8fd3-bfc51ca35c93",
   "metadata": {},
   "source": [
    "# n = 1215"
   ]
  },
  {
   "cell_type": "code",
   "execution_count": 19,
   "id": "c27a2ee0-9a9a-4359-ad04-065275a4cb4a",
   "metadata": {},
   "outputs": [],
   "source": [
    "data2004 = pd.read_parquet(f\"data/data2004_1215.parquet\")\n",
    "data_f = data2004[var_list_n] - 1 # reindexing to 0 (as expected by StepMix)"
   ]
  },
  {
   "cell_type": "code",
   "execution_count": 20,
   "id": "d02d32b1-94b3-43d8-92de-0d76abd30bde",
   "metadata": {},
   "outputs": [
    {
     "name": "stderr",
     "output_type": "stream",
     "text": [
      "Fitting latent models: 100%|██████████| 8/8 [00:00<00:00, 5215.17it/s]\n"
     ]
    }
   ],
   "source": [
    "results = Parallel(n_jobs=max_threads)(\n",
    "    delayed(do_StepMix)(\n",
    "        data = data_f,\n",
    "        controls = None,\n",
    "        n = n_clust,\n",
    "        msrt = 'categorical',\n",
    "        covar = 'without',\n",
    "        weights = None)\n",
    "    for n_clust in tqdm(range(1,9), desc='Fitting latent models'))\n",
    "\n",
    "replic_LCA = pd.DataFrame(results).drop(columns = ['model', 'params', 'silhouette', 'calinski_harabasz', 'davies_bouldin', 'dunn'])\n",
    "replic_LCA['l2_red'] = 100 * (replic_LCA['LL'].iloc[0] - replic_LCA['LL']) / replic_LCA['LL'].iloc[0]"
   ]
  },
  {
   "cell_type": "code",
   "execution_count": 21,
   "id": "b1d68718-7d74-4231-a0b8-d64cda22dc6e",
   "metadata": {},
   "outputs": [
    {
     "data": {
      "text/html": [
       "<style type=\"text/css\">\n",
       "</style>\n",
       "<table id=\"T_a001a\">\n",
       "  <thead>\n",
       "    <tr>\n",
       "      <th class=\"blank level0\" >&nbsp;</th>\n",
       "      <th id=\"T_a001a_level0_col0\" class=\"col_heading level0 col0\" >n_clust</th>\n",
       "      <th id=\"T_a001a_level0_col1\" class=\"col_heading level0 col1\" >min_clust_size</th>\n",
       "      <th id=\"T_a001a_level0_col2\" class=\"col_heading level0 col2\" >max_clust_size</th>\n",
       "      <th id=\"T_a001a_level0_col3\" class=\"col_heading level0 col3\" >aic</th>\n",
       "      <th id=\"T_a001a_level0_col4\" class=\"col_heading level0 col4\" >bic</th>\n",
       "      <th id=\"T_a001a_level0_col5\" class=\"col_heading level0 col5\" >sabic</th>\n",
       "      <th id=\"T_a001a_level0_col6\" class=\"col_heading level0 col6\" >relative_entropy</th>\n",
       "      <th id=\"T_a001a_level0_col7\" class=\"col_heading level0 col7\" >classif_error</th>\n",
       "      <th id=\"T_a001a_level0_col8\" class=\"col_heading level0 col8\" >df</th>\n",
       "      <th id=\"T_a001a_level0_col9\" class=\"col_heading level0 col9\" >LL</th>\n",
       "      <th id=\"T_a001a_level0_col10\" class=\"col_heading level0 col10\" >l2_red</th>\n",
       "    </tr>\n",
       "  </thead>\n",
       "  <tbody>\n",
       "    <tr>\n",
       "      <th id=\"T_a001a_level0_row0\" class=\"row_heading level0 row0\" >0</th>\n",
       "      <td id=\"T_a001a_row0_col0\" class=\"data row0 col0\" >1</td>\n",
       "      <td id=\"T_a001a_row0_col1\" class=\"data row0 col1\" >1215</td>\n",
       "      <td id=\"T_a001a_row0_col2\" class=\"data row0 col2\" >1215</td>\n",
       "      <td id=\"T_a001a_row0_col3\" class=\"data row0 col3\" >61663.981832</td>\n",
       "      <td id=\"T_a001a_row0_col4\" class=\"data row0 col4\" >62133.411773</td>\n",
       "      <td id=\"T_a001a_row0_col5\" class=\"data row0 col5\" >62494.612077</td>\n",
       "      <td id=\"T_a001a_row0_col6\" class=\"data row0 col6\" >nan</td>\n",
       "      <td id=\"T_a001a_row0_col7\" class=\"data row0 col7\" >0.000000</td>\n",
       "      <td id=\"T_a001a_row0_col8\" class=\"data row0 col8\" >1121</td>\n",
       "      <td id=\"T_a001a_row0_col9\" class=\"data row0 col9\" >-25.300404</td>\n",
       "      <td id=\"T_a001a_row0_col10\" class=\"data row0 col10\" >-0.000000</td>\n",
       "    </tr>\n",
       "    <tr>\n",
       "      <th id=\"T_a001a_level0_row1\" class=\"row_heading level0 row1\" >1</th>\n",
       "      <td id=\"T_a001a_row1_col0\" class=\"data row1 col0\" >2</td>\n",
       "      <td id=\"T_a001a_row1_col1\" class=\"data row1 col1\" >423</td>\n",
       "      <td id=\"T_a001a_row1_col2\" class=\"data row1 col2\" >792</td>\n",
       "      <td id=\"T_a001a_row1_col3\" class=\"data row1 col3\" >58163.507661</td>\n",
       "      <td id=\"T_a001a_row1_col4\" class=\"data row1 col4\" >59107.470042</td>\n",
       "      <td id=\"T_a001a_row1_col5\" class=\"data row1 col5\" >59833.796740</td>\n",
       "      <td id=\"T_a001a_row1_col6\" class=\"data row1 col6\" >0.875307</td>\n",
       "      <td id=\"T_a001a_row1_col7\" class=\"data row1 col7\" >0.034978</td>\n",
       "      <td id=\"T_a001a_row1_col8\" class=\"data row1 col8\" >1028</td>\n",
       "      <td id=\"T_a001a_row1_col9\" class=\"data row1 col9\" >-23.783336</td>\n",
       "      <td id=\"T_a001a_row1_col10\" class=\"data row1 col10\" >5.996219</td>\n",
       "    </tr>\n",
       "    <tr>\n",
       "      <th id=\"T_a001a_level0_row2\" class=\"row_heading level0 row2\" >2</th>\n",
       "      <td id=\"T_a001a_row2_col0\" class=\"data row2 col0\" >3</td>\n",
       "      <td id=\"T_a001a_row2_col1\" class=\"data row2 col1\" >242</td>\n",
       "      <td id=\"T_a001a_row2_col2\" class=\"data row2 col2\" >563</td>\n",
       "      <td id=\"T_a001a_row2_col3\" class=\"data row2 col3\" >56972.090243</td>\n",
       "      <td id=\"T_a001a_row2_col4\" class=\"data row2 col4\" >58390.585064</td>\n",
       "      <td id=\"T_a001a_row2_col5\" class=\"data row2 col5\" >59482.038157</td>\n",
       "      <td id=\"T_a001a_row2_col6\" class=\"data row2 col6\" >0.860825</td>\n",
       "      <td id=\"T_a001a_row2_col7\" class=\"data row2 col7\" >0.062306</td>\n",
       "      <td id=\"T_a001a_row2_col8\" class=\"data row2 col8\" >935</td>\n",
       "      <td id=\"T_a001a_row2_col9\" class=\"data row2 col9\" >-23.216498</td>\n",
       "      <td id=\"T_a001a_row2_col10\" class=\"data row2 col10\" >8.236651</td>\n",
       "    </tr>\n",
       "    <tr>\n",
       "      <th id=\"T_a001a_level0_row3\" class=\"row_heading level0 row3\" >3</th>\n",
       "      <td id=\"T_a001a_row3_col0\" class=\"data row3 col0\" >4</td>\n",
       "      <td id=\"T_a001a_row3_col1\" class=\"data row3 col1\" >196</td>\n",
       "      <td id=\"T_a001a_row3_col2\" class=\"data row3 col2\" >443</td>\n",
       "      <td id=\"T_a001a_row3_col3\" class=\"data row3 col3\" >56363.511230</td>\n",
       "      <td id=\"T_a001a_row3_col4\" class=\"data row3 col4\" >58256.538491</td>\n",
       "      <td id=\"T_a001a_row3_col5\" class=\"data row3 col5\" >59713.117978</td>\n",
       "      <td id=\"T_a001a_row3_col6\" class=\"data row3 col6\" >0.862468</td>\n",
       "      <td id=\"T_a001a_row3_col7\" class=\"data row3 col7\" >0.076808</td>\n",
       "      <td id=\"T_a001a_row3_col8\" class=\"data row3 col8\" >842</td>\n",
       "      <td id=\"T_a001a_row3_col9\" class=\"data row3 col9\" >-22.889511</td>\n",
       "      <td id=\"T_a001a_row3_col10\" class=\"data row3 col10\" >9.529070</td>\n",
       "    </tr>\n",
       "    <tr>\n",
       "      <th id=\"T_a001a_level0_row4\" class=\"row_heading level0 row4\" >4</th>\n",
       "      <td id=\"T_a001a_row4_col0\" class=\"data row4 col0\" >5</td>\n",
       "      <td id=\"T_a001a_row4_col1\" class=\"data row4 col1\" >92</td>\n",
       "      <td id=\"T_a001a_row4_col2\" class=\"data row4 col2\" >442</td>\n",
       "      <td id=\"T_a001a_row4_col3\" class=\"data row4 col3\" >55714.306849</td>\n",
       "      <td id=\"T_a001a_row4_col4\" class=\"data row4 col4\" >58081.866550</td>\n",
       "      <td id=\"T_a001a_row4_col5\" class=\"data row4 col5\" >59903.572432</td>\n",
       "      <td id=\"T_a001a_row4_col6\" class=\"data row4 col6\" >0.888762</td>\n",
       "      <td id=\"T_a001a_row4_col7\" class=\"data row4 col7\" >0.070038</td>\n",
       "      <td id=\"T_a001a_row4_col8\" class=\"data row4 col8\" >749</td>\n",
       "      <td id=\"T_a001a_row4_col9\" class=\"data row4 col9\" >-22.545805</td>\n",
       "      <td id=\"T_a001a_row4_col10\" class=\"data row4 col10\" >10.887568</td>\n",
       "    </tr>\n",
       "    <tr>\n",
       "      <th id=\"T_a001a_level0_row5\" class=\"row_heading level0 row5\" >5</th>\n",
       "      <td id=\"T_a001a_row5_col0\" class=\"data row5 col0\" >6</td>\n",
       "      <td id=\"T_a001a_row5_col1\" class=\"data row5 col1\" >110</td>\n",
       "      <td id=\"T_a001a_row5_col2\" class=\"data row5 col2\" >388</td>\n",
       "      <td id=\"T_a001a_row5_col3\" class=\"data row5 col3\" >55642.346116</td>\n",
       "      <td id=\"T_a001a_row5_col4\" class=\"data row5 col4\" >58484.438257</td>\n",
       "      <td id=\"T_a001a_row5_col5\" class=\"data row5 col5\" >60671.270534</td>\n",
       "      <td id=\"T_a001a_row5_col6\" class=\"data row5 col6\" >0.884397</td>\n",
       "      <td id=\"T_a001a_row5_col7\" class=\"data row5 col7\" >0.078146</td>\n",
       "      <td id=\"T_a001a_row5_col8\" class=\"data row5 col8\" >656</td>\n",
       "      <td id=\"T_a001a_row5_col9\" class=\"data row5 col9\" >-22.439649</td>\n",
       "      <td id=\"T_a001a_row5_col10\" class=\"data row5 col10\" >11.307153</td>\n",
       "    </tr>\n",
       "    <tr>\n",
       "      <th id=\"T_a001a_level0_row6\" class=\"row_heading level0 row6\" >6</th>\n",
       "      <td id=\"T_a001a_row6_col0\" class=\"data row6 col0\" >7</td>\n",
       "      <td id=\"T_a001a_row6_col1\" class=\"data row6 col1\" >49</td>\n",
       "      <td id=\"T_a001a_row6_col2\" class=\"data row6 col2\" >370</td>\n",
       "      <td id=\"T_a001a_row6_col3\" class=\"data row6 col3\" >55690.248503</td>\n",
       "      <td id=\"T_a001a_row6_col4\" class=\"data row6 col4\" >59006.873084</td>\n",
       "      <td id=\"T_a001a_row6_col5\" class=\"data row6 col5\" >61558.831755</td>\n",
       "      <td id=\"T_a001a_row6_col6\" class=\"data row6 col6\" >0.911771</td>\n",
       "      <td id=\"T_a001a_row6_col7\" class=\"data row6 col7\" >0.066198</td>\n",
       "      <td id=\"T_a001a_row6_col8\" class=\"data row6 col8\" >563</td>\n",
       "      <td id=\"T_a001a_row6_col9\" class=\"data row6 col9\" >-22.382818</td>\n",
       "      <td id=\"T_a001a_row6_col10\" class=\"data row6 col10\" >11.531775</td>\n",
       "    </tr>\n",
       "    <tr>\n",
       "      <th id=\"T_a001a_level0_row7\" class=\"row_heading level0 row7\" >7</th>\n",
       "      <td id=\"T_a001a_row7_col0\" class=\"data row7 col0\" >8</td>\n",
       "      <td id=\"T_a001a_row7_col1\" class=\"data row7 col1\" >58</td>\n",
       "      <td id=\"T_a001a_row7_col2\" class=\"data row7 col2\" >341</td>\n",
       "      <td id=\"T_a001a_row7_col3\" class=\"data row7 col3\" >55766.394932</td>\n",
       "      <td id=\"T_a001a_row7_col4\" class=\"data row7 col4\" >59557.551953</td>\n",
       "      <td id=\"T_a001a_row7_col5\" class=\"data row7 col5\" >62474.637018</td>\n",
       "      <td id=\"T_a001a_row7_col6\" class=\"data row7 col6\" >0.911941</td>\n",
       "      <td id=\"T_a001a_row7_col7\" class=\"data row7 col7\" >0.074140</td>\n",
       "      <td id=\"T_a001a_row7_col8\" class=\"data row7 col8\" >470</td>\n",
       "      <td id=\"T_a001a_row7_col9\" class=\"data row7 col9\" >-22.337611</td>\n",
       "      <td id=\"T_a001a_row7_col10\" class=\"data row7 col10\" >11.710457</td>\n",
       "    </tr>\n",
       "  </tbody>\n",
       "</table>\n"
      ],
      "text/plain": [
       "<pandas.io.formats.style.Styler at 0x7f740e703610>"
      ]
     },
     "execution_count": 21,
     "metadata": {},
     "output_type": "execute_result"
    }
   ],
   "source": [
    "replic_LCA.style"
   ]
  },
  {
   "cell_type": "markdown",
   "id": "ac18a906-0a7e-4860-86d4-595c93080869",
   "metadata": {},
   "source": [
    "## BLRT"
   ]
  },
  {
   "cell_type": "code",
   "execution_count": 22,
   "id": "44254464-2ed6-41cf-b676-10aa828341c6",
   "metadata": {
    "scrolled": true
   },
   "outputs": [
    {
     "name": "stdout",
     "output_type": "stream",
     "text": [
      "\n",
      "Bootstrapping estimator...\n"
     ]
    },
    {
     "name": "stderr",
     "output_type": "stream",
     "text": [
      "Bootstrap Repetitions    :   0%|          | 1/1000 [00:00<02:36,  6.39it/s, max_LL=-2.8e+4, median_LL=-2.8e+4, min_LL=-2.8e+4]e+4]"
     ]
    },
    {
     "name": "stdout",
     "output_type": "stream",
     "text": [
      "\n",
      "Bootstrapping estimator...\n"
     ]
    },
    {
     "name": "stderr",
     "output_type": "stream",
     "text": [
      "Bootstrap Repetitions    : 100%|██████████| 1000/1000 [01:41<00:00,  9.88it/s, max_LL=-2.79e+4, median_LL=-2.88e+4, min_LL=-2.96e+4]\n",
      "Bootstrap Repetitions    :  34%|███▍      | 342/1000 [00:56<01:41,  6.47it/s, max_LL=-2.73e+4, median_LL=-2.81e+4, min_LL=-2.88e+4]"
     ]
    },
    {
     "name": "stdout",
     "output_type": "stream",
     "text": [
      "\n",
      "Bootstrapping estimator...\n"
     ]
    },
    {
     "name": "stderr",
     "output_type": "stream",
     "text": [
      "Bootstrap Repetitions    :  14%|█▍        | 140/1000 [00:25<02:50,  5.05it/s, max_LL=-2.68e+4, median_LL=-2.76e+4, min_LL=-2.83e+4]"
     ]
    },
    {
     "name": "stdout",
     "output_type": "stream",
     "text": [
      "\n",
      "Bootstrapping estimator...\n"
     ]
    },
    {
     "name": "stderr",
     "output_type": "stream",
     "text": [
      "Bootstrap Repetitions    :  16%|█▌        | 162/1000 [00:34<02:40,  5.21it/s, max_LL=-2.66e+4, median_LL=-2.73e+4, min_LL=-2.79e+4]"
     ]
    },
    {
     "name": "stdout",
     "output_type": "stream",
     "text": [
      "\n",
      "Bootstrapping estimator...\n"
     ]
    },
    {
     "name": "stderr",
     "output_type": "stream",
     "text": [
      "Bootstrap Repetitions    :   0%|          | 0/1000 [00:00<?, ?it/s] 5.86it/s, max_LL=-2.73e+4, median_LL=-2.81e+4, min_LL=-2.89e+4]"
     ]
    },
    {
     "name": "stdout",
     "output_type": "stream",
     "text": [
      "\n",
      "Bootstrapping estimator...\n"
     ]
    },
    {
     "name": "stderr",
     "output_type": "stream",
     "text": [
      "Bootstrap Repetitions    : 100%|██████████| 1000/1000 [02:39<00:00,  6.28it/s, max_LL=-2.73e+4, median_LL=-2.81e+4, min_LL=-2.89e+4]\n",
      "Bootstrap Repetitions    :  28%|██▊       | 275/1000 [01:12<04:29,  2.69it/s, max_LL=-2.63e+4, median_LL=-2.7e+4, min_LL=-2.77e+4]]"
     ]
    },
    {
     "name": "stdout",
     "output_type": "stream",
     "text": [
      "\n",
      "Bootstrapping estimator...\n"
     ]
    },
    {
     "name": "stderr",
     "output_type": "stream",
     "text": [
      "Bootstrap Repetitions    : 100%|██████████| 1000/1000 [03:04<00:00,  5.43it/s, max_LL=-2.68e+4, median_LL=-2.76e+4, min_LL=-2.84e+4]\n",
      "Bootstrap Repetitions    : 100%|██████████| 1000/1000 [03:38<00:00,  4.58it/s, max_LL=-2.64e+4, median_LL=-2.73e+4, min_LL=-2.8e+4]\n",
      "Bootstrap Repetitions    : 100%|██████████| 1000/1000 [04:17<00:00,  3.88it/s, max_LL=-2.63e+4, median_LL=-2.7e+4, min_LL=-2.79e+4]\n",
      "Bootstrap Repetitions    : 100%|██████████| 1000/1000 [04:47<00:00,  3.48it/s, max_LL=-2.6e+4, median_LL=-2.69e+4, min_LL=-2.76e+4]\n",
      "Bootstrap Repetitions    : 100%|██████████| 1000/1000 [05:25<00:00,  3.07it/s, max_LL=-2.58e+4, median_LL=-2.67e+4, min_LL=-2.74e+4]\n"
     ]
    }
   ],
   "source": [
    "s_time = time.time()\n",
    "BLRT = blrt_sweep_custom(\n",
    "    latent_mod,\n",
    "    data_f,\n",
    "    low = 1,\n",
    "    high = 8,\n",
    "    n_repetitions = bootstrap_iters,\n",
    "    n_jobs = max_threads)\n",
    "e_time = time.time()"
   ]
  },
  {
   "cell_type": "code",
   "execution_count": 23,
   "id": "a92cdee0-c509-43fc-a840-89204fe72929",
   "metadata": {},
   "outputs": [
    {
     "name": "stdout",
     "output_type": "stream",
     "text": [
      "Total execution time: 10.21 minutes\n"
     ]
    }
   ],
   "source": [
    "print(f\"Total execution time: {(e_time - s_time) / 60:.2f} minutes\")"
   ]
  },
  {
   "cell_type": "code",
   "execution_count": 24,
   "id": "b8e565fc-f0d6-49de-9a65-d1e15c329098",
   "metadata": {},
   "outputs": [
    {
     "data": {
      "text/html": [
       "<style type=\"text/css\">\n",
       "</style>\n",
       "<table id=\"T_b3cbf\">\n",
       "  <thead>\n",
       "    <tr>\n",
       "      <th id=\"T_b3cbf_level0_col0\" class=\"col_heading level0 col0\" >n clust</th>\n",
       "      <th id=\"T_b3cbf_level0_col1\" class=\"col_heading level0 col1\" >p</th>\n",
       "    </tr>\n",
       "  </thead>\n",
       "  <tbody>\n",
       "    <tr>\n",
       "      <td id=\"T_b3cbf_row0_col0\" class=\"data row0 col0\" >2 vs. 1 clust</td>\n",
       "      <td id=\"T_b3cbf_row0_col1\" class=\"data row0 col1\" >0.339</td>\n",
       "    </tr>\n",
       "    <tr>\n",
       "      <td id=\"T_b3cbf_row1_col0\" class=\"data row1 col0\" >3 vs. 2 clust</td>\n",
       "      <td id=\"T_b3cbf_row1_col1\" class=\"data row1 col1\" >0.813</td>\n",
       "    </tr>\n",
       "    <tr>\n",
       "      <td id=\"T_b3cbf_row2_col0\" class=\"data row2 col0\" >4 vs. 3 clust</td>\n",
       "      <td id=\"T_b3cbf_row2_col1\" class=\"data row2 col1\" >0.265</td>\n",
       "    </tr>\n",
       "    <tr>\n",
       "      <td id=\"T_b3cbf_row3_col0\" class=\"data row3 col0\" >5 vs. 4 clust</td>\n",
       "      <td id=\"T_b3cbf_row3_col1\" class=\"data row3 col1\" >0.187</td>\n",
       "    </tr>\n",
       "    <tr>\n",
       "      <td id=\"T_b3cbf_row4_col0\" class=\"data row4 col0\" >6 vs. 5 clust</td>\n",
       "      <td id=\"T_b3cbf_row4_col1\" class=\"data row4 col1\" >0.921</td>\n",
       "    </tr>\n",
       "    <tr>\n",
       "      <td id=\"T_b3cbf_row5_col0\" class=\"data row5 col0\" >7 vs. 6 clust</td>\n",
       "      <td id=\"T_b3cbf_row5_col1\" class=\"data row5 col1\" >0.687</td>\n",
       "    </tr>\n",
       "    <tr>\n",
       "      <td id=\"T_b3cbf_row6_col0\" class=\"data row6 col0\" >8 vs. 7 clust</td>\n",
       "      <td id=\"T_b3cbf_row6_col1\" class=\"data row6 col1\" >0.666</td>\n",
       "    </tr>\n",
       "  </tbody>\n",
       "</table>\n"
      ],
      "text/plain": [
       "<pandas.io.formats.style.Styler at 0x7f740e703750>"
      ]
     },
     "execution_count": 24,
     "metadata": {},
     "output_type": "execute_result"
    }
   ],
   "source": [
    "BLRT_res = pd.concat([pd.DataFrame({'p': [np.nan]}), BLRT]).reset_index(drop=True) # Add a row for the saturated model\n",
    "BLRT_res[\"n clust\"] = [f\"{i+1} vs. {i} clust\" for i in BLRT_res.index]\n",
    "BLRT_res = BLRT_res.iloc[1:]\n",
    "BLRT_res = BLRT_res[[\"n clust\", \"p\"]]\n",
    "BLRT_res.to_csv(\"output/models/BLRT_1215.csv\", index=False)\n",
    "\n",
    "BLRT_res.style.hide(axis=0).format({\"p\": \"{:.3f}\"})"
   ]
  },
  {
   "cell_type": "code",
   "execution_count": 25,
   "id": "a6133ea9-8e7c-4c53-92f9-4166a351ebef",
   "metadata": {},
   "outputs": [
    {
     "name": "stdout",
     "output_type": "stream",
     "text": [
      "Optimal number of clusters for LCA without covariates and sample weights is 1 according to BLRT.\n"
     ]
    }
   ],
   "source": [
    "if BLRT_res[BLRT_res['p'] > 0.05].empty:\n",
    "    best_LCA = None\n",
    "else:\n",
    "    best_LCA = BLRT_res[BLRT_res['p'] > 0.05]\n",
    "    best_LCA = best_LCA.index[0]\n",
    "\n",
    "print(f\"Optimal number of clusters for LCA without covariates and sample weights is {best_LCA} according to BLRT.\")"
   ]
  }
 ],
 "metadata": {
  "kernelspec": {
   "display_name": "Python 3 (ipykernel)",
   "language": "python",
   "name": "python3"
  },
  "language_info": {
   "codemirror_mode": {
    "name": "ipython",
    "version": 3
   },
   "file_extension": ".py",
   "mimetype": "text/x-python",
   "name": "python",
   "nbconvert_exporter": "python",
   "pygments_lexer": "ipython3",
   "version": "3.13.5"
  }
 },
 "nbformat": 4,
 "nbformat_minor": 5
}

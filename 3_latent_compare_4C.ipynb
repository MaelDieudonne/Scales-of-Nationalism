{
 "cells": [
  {
   "cell_type": "code",
   "execution_count": 1,
   "id": "4887e505-68fb-40c0-adb5-06ef3199e312",
   "metadata": {},
   "outputs": [],
   "source": [
    "import numpy as np\n",
    "import pandas as pd\n",
    "\n",
    "from scipy.optimize import linear_sum_assignment\n",
    "from src.model_fit import do_StepMix"
   ]
  },
  {
   "cell_type": "code",
   "execution_count": 2,
   "id": "e28820ec-976b-4d7b-92f4-62c50eb66c40",
   "metadata": {},
   "outputs": [],
   "source": [
    "var_list = [\n",
    "    'clseusa', 'ambornin', 'amcit', 'amlived', 'amenglsh', 'amchrstn',\n",
    "    'amgovt', 'amfeel', 'amcitizn', 'amshamed', 'belikeus', 'ambetter',\n",
    "    'ifwrong', 'proudsss', 'proudgrp', 'proudpol', 'prouddem', 'proudeco',\n",
    "    'proudspt', 'proudart', 'proudhis', 'proudmil', 'proudsci']\n",
    "\n",
    "var_list_f = [var + \"_f\" for var in var_list]\n",
    "var_list_n = [var + \"_n\" for var in var_list]\n",
    "\n",
    "ctrl_list = [\n",
    "    'party_f', 'race_f', 'educ_f', 'region_f', 'reltrad_f', 'religstr_f', \n",
    "    'born_usa_f', 'sex_f', 'age_n', 'lnrealinc2004_n']"
   ]
  },
  {
   "cell_type": "markdown",
   "id": "c454f469-5d45-4ee0-8e32-1debc3b62015",
   "metadata": {},
   "source": [
    "# n = 830"
   ]
  },
  {
   "cell_type": "code",
   "execution_count": 3,
   "id": "1e767a2f-4830-453c-a044-bcd771b288ee",
   "metadata": {},
   "outputs": [],
   "source": [
    "data2004 = pd.read_parquet(f\"data/data2004_830.parquet\")\n",
    "data_f = data2004[var_list_n] - 1"
   ]
  },
  {
   "cell_type": "code",
   "execution_count": 4,
   "id": "9ece8f72-e07a-4bd3-a55c-862f0491c946",
   "metadata": {},
   "outputs": [
    {
     "data": {
      "text/html": [
       "<style type=\"text/css\">\n",
       "</style>\n",
       "<table id=\"T_6ea00\">\n",
       "  <thead>\n",
       "    <tr>\n",
       "      <th class=\"blank level0\" >&nbsp;</th>\n",
       "      <th id=\"T_6ea00_level0_col0\" class=\"col_heading level0 col0\" >n_clust</th>\n",
       "      <th id=\"T_6ea00_level0_col1\" class=\"col_heading level0 col1\" >min_clust_size</th>\n",
       "      <th id=\"T_6ea00_level0_col2\" class=\"col_heading level0 col2\" >max_clust_size</th>\n",
       "      <th id=\"T_6ea00_level0_col3\" class=\"col_heading level0 col3\" >aic</th>\n",
       "      <th id=\"T_6ea00_level0_col4\" class=\"col_heading level0 col4\" >bic</th>\n",
       "      <th id=\"T_6ea00_level0_col5\" class=\"col_heading level0 col5\" >sabic</th>\n",
       "      <th id=\"T_6ea00_level0_col6\" class=\"col_heading level0 col6\" >relative_entropy</th>\n",
       "      <th id=\"T_6ea00_level0_col7\" class=\"col_heading level0 col7\" >classif_error</th>\n",
       "      <th id=\"T_6ea00_level0_col8\" class=\"col_heading level0 col8\" >df</th>\n",
       "      <th id=\"T_6ea00_level0_col9\" class=\"col_heading level0 col9\" >LL</th>\n",
       "    </tr>\n",
       "  </thead>\n",
       "  <tbody>\n",
       "    <tr>\n",
       "      <th id=\"T_6ea00_level0_row0\" class=\"row_heading level0 row0\" >msrt</th>\n",
       "      <td id=\"T_6ea00_row0_col0\" class=\"data row0 col0\" >4</td>\n",
       "      <td id=\"T_6ea00_row0_col1\" class=\"data row0 col1\" >131</td>\n",
       "      <td id=\"T_6ea00_row0_col2\" class=\"data row0 col2\" >296</td>\n",
       "      <td id=\"T_6ea00_row0_col3\" class=\"data row0 col3\" >35113.911493</td>\n",
       "      <td id=\"T_6ea00_row0_col4\" class=\"data row0 col4\" >36525.617778</td>\n",
       "      <td id=\"T_6ea00_row0_col5\" class=\"data row0 col5\" >37585.805582</td>\n",
       "      <td id=\"T_6ea00_row0_col6\" class=\"data row0 col6\" >0.867419</td>\n",
       "      <td id=\"T_6ea00_row0_col7\" class=\"data row0 col7\" >0.073126</td>\n",
       "      <td id=\"T_6ea00_row0_col8\" class=\"data row0 col8\" >530</td>\n",
       "      <td id=\"T_6ea00_row0_col9\" class=\"data row0 col9\" >-20.792718</td>\n",
       "    </tr>\n",
       "  </tbody>\n",
       "</table>\n"
      ],
      "text/plain": [
       "<pandas.io.formats.style.Styler at 0x13741c470>"
      ]
     },
     "execution_count": 4,
     "metadata": {},
     "output_type": "execute_result"
    }
   ],
   "source": [
    "results = do_StepMix(\n",
    "    data = data_f,\n",
    "    controls = None,\n",
    "    n = 4,\n",
    "    msrt = 'categorical',\n",
    "    covar = 'without',\n",
    "    weights = None)\n",
    "\n",
    "pd.DataFrame(results)[[\n",
    "    'n_clust', 'min_clust_size', 'max_clust_size', \n",
    "    'aic', 'bic', 'sabic', 'relative_entropy', 'classif_error', 'df', 'LL'\n",
    "]].head(n=1).style"
   ]
  },
  {
   "cell_type": "code",
   "execution_count": 5,
   "id": "5711fa51-eb07-4915-89c3-767d5ba16b02",
   "metadata": {},
   "outputs": [],
   "source": [
    "SM_pred_clust = do_StepMix(\n",
    "    data = data_f,\n",
    "    controls = None,\n",
    "    n = 4,\n",
    "    msrt = 'categorical',\n",
    "    covar = 'without',\n",
    "    weights = None,\n",
    "    refit = True)\n",
    "\n",
    "step_mix_results = data2004[var_list_n + ['age_n']].copy()\n",
    "step_mix_results['SM_pred_clust'] = pd.DataFrame(SM_pred_clust) + 1"
   ]
  },
  {
   "cell_type": "code",
   "execution_count": 6,
   "id": "c981cfaa-ee3d-4c69-9f28-1dee20986f7c",
   "metadata": {
    "scrolled": true
   },
   "outputs": [],
   "source": [
    "latent_gold_results = pd.read_csv(\"data/4C N830 wgt cov.csv\", sep=';')\n",
    "latent_gold_results.rename(columns={\n",
    "    'ind_amshame': 'ind_amshamedr',\n",
    "    'cov_age': 'age_n',\n",
    "    'Modal': 'LG_pred_clust'}, inplace=True)\n",
    "var_list_stata = [\"ind_\" + var + \"r\" for var in var_list]\n",
    "latent_gold_results = latent_gold_results[var_list_stata + ['age_n', 'LG_pred_clust', 'Cluster1', 'Cluster2', 'Cluster3', 'Cluster4']]\n",
    "latent_gold_results.columns = var_list_n + list(latent_gold_results.columns[23:])"
   ]
  },
  {
   "cell_type": "code",
   "execution_count": 7,
   "id": "13d760e6-6aac-4d68-92d8-09ce8eecc087",
   "metadata": {},
   "outputs": [],
   "source": [
    "merged_results = pd.merge(\n",
    "    step_mix_results,\n",
    "    latent_gold_results,\n",
    "    on=var_list_n + ['age_n'],\n",
    "    how='inner')"
   ]
  },
  {
   "cell_type": "code",
   "execution_count": 8,
   "id": "bf68d6c5-3d1b-492c-b419-fcc989da2b2c",
   "metadata": {},
   "outputs": [
    {
     "name": "stdout",
     "output_type": "stream",
     "text": [
      "Most likely cluster mapping from LG_pred_clust to SM_pred_clust:\n",
      "{1: 2, 2: 4, 3: 3, 4: 1}\n",
      "Proportion of overlapping assignments after mapping: 89.64%\n"
     ]
    }
   ],
   "source": [
    "conf_matrix = pd.crosstab(merged_results['LG_pred_clust'], merged_results['SM_pred_clust'])\n",
    "cost_matrix = -conf_matrix.values\n",
    "row_ind, col_ind = linear_sum_assignment(cost_matrix)\n",
    "mapping = dict(zip(conf_matrix.index[row_ind], conf_matrix.columns[col_ind]))\n",
    "print(\"Most likely cluster mapping from LG_pred_clust to SM_pred_clust:\")\n",
    "print(mapping)\n",
    "\n",
    "merged_results['LG_mapped'] = merged_results['LG_pred_clust'].map(mapping)\n",
    "overlap = (merged_results['LG_mapped'] == merged_results['SM_pred_clust']).mean()\n",
    "print(f'Proportion of overlapping assignments after mapping: {overlap:.2%}')"
   ]
  },
  {
   "cell_type": "code",
   "execution_count": 9,
   "id": "d31bf494-e27f-419e-97c8-91e2746e20bc",
   "metadata": {},
   "outputs": [
    {
     "name": "stdout",
     "output_type": "stream",
     "text": [
      "LatentGold classification error depending on agreement with StepMix\n",
      "agreement\n",
      "False    0.931176\n",
      "True     0.930859\n",
      "Name: classif_error_LG, dtype: float64\n",
      "\n",
      "LatentGold classification error depending on clusters\n",
      "LG_pred_clust\n",
      "1    0.921275\n",
      "2    0.937321\n",
      "3    0.930859\n",
      "4    0.945407\n",
      "Name: classif_error_LG, dtype: float64\n"
     ]
    }
   ],
   "source": [
    "merged_results['classif_error_LG'] = merged_results.apply(\n",
    "    lambda row: row[f'Cluster{row[\"LG_pred_clust\"]}'], axis=1)\n",
    "merged_results['classif_error_LG'] = merged_results['classif_error_LG'].str.replace(',', '.').astype(float)\n",
    "merged_results['agreement'] = merged_results['LG_mapped'] == merged_results['LG_pred_clust']\n",
    "print(\"LatentGold classification error depending on agreement with StepMix\")\n",
    "print(merged_results.groupby('agreement')['classif_error_LG'].mean())\n",
    "print(\"\")\n",
    "print(\"LatentGold classification error depending on clusters\")\n",
    "print(merged_results.groupby('LG_pred_clust')['classif_error_LG'].mean())"
   ]
  },
  {
   "cell_type": "markdown",
   "id": "1edbf7e2-06f6-48d8-9f7c-8a00bc937351",
   "metadata": {},
   "source": [
    "# n = 1077"
   ]
  },
  {
   "cell_type": "code",
   "execution_count": 10,
   "id": "92d6b8a2-04ce-49da-85cb-c1d697e04a42",
   "metadata": {},
   "outputs": [],
   "source": [
    "data2004 = pd.read_parquet(f\"data/data2004_1077.parquet\")\n",
    "data_f = data2004[var_list_n] - 1"
   ]
  },
  {
   "cell_type": "code",
   "execution_count": 11,
   "id": "311aec3d-3259-496a-a525-4148325623a1",
   "metadata": {},
   "outputs": [
    {
     "data": {
      "text/html": [
       "<style type=\"text/css\">\n",
       "</style>\n",
       "<table id=\"T_8d593\">\n",
       "  <thead>\n",
       "    <tr>\n",
       "      <th class=\"blank level0\" >&nbsp;</th>\n",
       "      <th id=\"T_8d593_level0_col0\" class=\"col_heading level0 col0\" >n_clust</th>\n",
       "      <th id=\"T_8d593_level0_col1\" class=\"col_heading level0 col1\" >min_clust_size</th>\n",
       "      <th id=\"T_8d593_level0_col2\" class=\"col_heading level0 col2\" >max_clust_size</th>\n",
       "      <th id=\"T_8d593_level0_col3\" class=\"col_heading level0 col3\" >aic</th>\n",
       "      <th id=\"T_8d593_level0_col4\" class=\"col_heading level0 col4\" >bic</th>\n",
       "      <th id=\"T_8d593_level0_col5\" class=\"col_heading level0 col5\" >sabic</th>\n",
       "      <th id=\"T_8d593_level0_col6\" class=\"col_heading level0 col6\" >relative_entropy</th>\n",
       "      <th id=\"T_8d593_level0_col7\" class=\"col_heading level0 col7\" >classif_error</th>\n",
       "      <th id=\"T_8d593_level0_col8\" class=\"col_heading level0 col8\" >df</th>\n",
       "      <th id=\"T_8d593_level0_col9\" class=\"col_heading level0 col9\" >LL</th>\n",
       "    </tr>\n",
       "  </thead>\n",
       "  <tbody>\n",
       "    <tr>\n",
       "      <th id=\"T_8d593_level0_row0\" class=\"row_heading level0 row0\" >msrt</th>\n",
       "      <td id=\"T_8d593_row0_col0\" class=\"data row0 col0\" >4</td>\n",
       "      <td id=\"T_8d593_row0_col1\" class=\"data row0 col1\" >182</td>\n",
       "      <td id=\"T_8d593_row0_col2\" class=\"data row0 col2\" >403</td>\n",
       "      <td id=\"T_8d593_row0_col3\" class=\"data row0 col3\" >46682.338972</td>\n",
       "      <td id=\"T_8d593_row0_col4\" class=\"data row0 col4\" >48171.937440</td>\n",
       "      <td id=\"T_8d593_row0_col5\" class=\"data row0 col5\" >49309.852545</td>\n",
       "      <td id=\"T_8d593_row0_col6\" class=\"data row0 col6\" >0.861637</td>\n",
       "      <td id=\"T_8d593_row0_col7\" class=\"data row0 col7\" >0.078646</td>\n",
       "      <td id=\"T_8d593_row0_col8\" class=\"data row0 col8\" >777</td>\n",
       "      <td id=\"T_8d593_row0_col9\" class=\"data row0 col9\" >-21.394772</td>\n",
       "    </tr>\n",
       "  </tbody>\n",
       "</table>\n"
      ],
      "text/plain": [
       "<pandas.io.formats.style.Styler at 0x136ee2390>"
      ]
     },
     "execution_count": 11,
     "metadata": {},
     "output_type": "execute_result"
    }
   ],
   "source": [
    "results = do_StepMix(\n",
    "    data = data_f,\n",
    "    controls = None,\n",
    "    n = 4,\n",
    "    msrt = 'categorical',\n",
    "    covar = 'without',\n",
    "    weights = None)\n",
    "\n",
    "pd.DataFrame(results)[[\n",
    "    'n_clust', 'min_clust_size', 'max_clust_size', \n",
    "    'aic', 'bic', 'sabic', 'relative_entropy', 'classif_error', 'df', 'LL'\n",
    "]].head(n=1).style"
   ]
  },
  {
   "cell_type": "markdown",
   "id": "28edf71f-ef40-4358-aa27-391dd2f52f80",
   "metadata": {},
   "source": [
    "# n = 1215"
   ]
  },
  {
   "cell_type": "code",
   "execution_count": 12,
   "id": "7993ca3c-d099-4d50-96b4-1ab659c85bae",
   "metadata": {},
   "outputs": [],
   "source": [
    "data2004 = pd.read_parquet(f\"data/data2004_1215.parquet\")\n",
    "data_f = data2004[var_list_n] - 1"
   ]
  },
  {
   "cell_type": "code",
   "execution_count": 13,
   "id": "7e8b54e6-6899-460b-a807-3da94ff94be8",
   "metadata": {},
   "outputs": [
    {
     "data": {
      "text/html": [
       "<style type=\"text/css\">\n",
       "</style>\n",
       "<table id=\"T_9ee22\">\n",
       "  <thead>\n",
       "    <tr>\n",
       "      <th class=\"blank level0\" >&nbsp;</th>\n",
       "      <th id=\"T_9ee22_level0_col0\" class=\"col_heading level0 col0\" >n_clust</th>\n",
       "      <th id=\"T_9ee22_level0_col1\" class=\"col_heading level0 col1\" >min_clust_size</th>\n",
       "      <th id=\"T_9ee22_level0_col2\" class=\"col_heading level0 col2\" >max_clust_size</th>\n",
       "      <th id=\"T_9ee22_level0_col3\" class=\"col_heading level0 col3\" >aic</th>\n",
       "      <th id=\"T_9ee22_level0_col4\" class=\"col_heading level0 col4\" >bic</th>\n",
       "      <th id=\"T_9ee22_level0_col5\" class=\"col_heading level0 col5\" >sabic</th>\n",
       "      <th id=\"T_9ee22_level0_col6\" class=\"col_heading level0 col6\" >relative_entropy</th>\n",
       "      <th id=\"T_9ee22_level0_col7\" class=\"col_heading level0 col7\" >classif_error</th>\n",
       "      <th id=\"T_9ee22_level0_col8\" class=\"col_heading level0 col8\" >df</th>\n",
       "      <th id=\"T_9ee22_level0_col9\" class=\"col_heading level0 col9\" >LL</th>\n",
       "    </tr>\n",
       "  </thead>\n",
       "  <tbody>\n",
       "    <tr>\n",
       "      <th id=\"T_9ee22_level0_row0\" class=\"row_heading level0 row0\" >msrt</th>\n",
       "      <td id=\"T_9ee22_row0_col0\" class=\"data row0 col0\" >3</td>\n",
       "      <td id=\"T_9ee22_row0_col1\" class=\"data row0 col1\" >280</td>\n",
       "      <td id=\"T_9ee22_row0_col2\" class=\"data row0 col2\" >477</td>\n",
       "      <td id=\"T_9ee22_row0_col3\" class=\"data row0 col3\" >55525.199801</td>\n",
       "      <td id=\"T_9ee22_row0_col4\" class=\"data row0 col4\" >56851.849634</td>\n",
       "      <td id=\"T_9ee22_row0_col5\" class=\"data row0 col5\" >57872.633102</td>\n",
       "      <td id=\"T_9ee22_row0_col6\" class=\"data row0 col6\" >0.851891</td>\n",
       "      <td id=\"T_9ee22_row0_col7\" class=\"data row0 col7\" >0.067244</td>\n",
       "      <td id=\"T_9ee22_row0_col8\" class=\"data row0 col8\" >953</td>\n",
       "      <td id=\"T_9ee22_row0_col9\" class=\"data row0 col9\" >-22.635885</td>\n",
       "    </tr>\n",
       "  </tbody>\n",
       "</table>\n"
      ],
      "text/plain": [
       "<pandas.io.formats.style.Styler at 0x1696e4950>"
      ]
     },
     "execution_count": 13,
     "metadata": {},
     "output_type": "execute_result"
    }
   ],
   "source": [
    "results = do_StepMix(\n",
    "    data = data_f,\n",
    "    controls = None,\n",
    "    n = 3,\n",
    "    msrt = 'categorical',\n",
    "    covar = 'without',\n",
    "    weights = None)\n",
    "\n",
    "pd.DataFrame(results)[[\n",
    "    'n_clust', 'min_clust_size', 'max_clust_size', \n",
    "    'aic', 'bic', 'sabic', 'relative_entropy', 'classif_error', 'df', 'LL'\n",
    "]].head(n=1).style"
   ]
  }
 ],
 "metadata": {
  "kernelspec": {
   "display_name": "Python 3 (ipykernel)",
   "language": "python",
   "name": "python3"
  },
  "language_info": {
   "codemirror_mode": {
    "name": "ipython",
    "version": 3
   },
   "file_extension": ".py",
   "mimetype": "text/x-python",
   "name": "python",
   "nbconvert_exporter": "python",
   "pygments_lexer": "ipython3",
   "version": "3.12.9"
  }
 },
 "nbformat": 4,
 "nbformat_minor": 5
}

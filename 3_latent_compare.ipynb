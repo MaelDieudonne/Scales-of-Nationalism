{
 "cells": [
  {
   "cell_type": "code",
   "execution_count": 1,
   "id": "4887e505-68fb-40c0-adb5-06ef3199e312",
   "metadata": {},
   "outputs": [],
   "source": [
    "import numpy as np\n",
    "import pandas as pd\n",
    "\n",
    "from scipy.optimize import linear_sum_assignment\n",
    "from src.model_fit import do_StepMix"
   ]
  },
  {
   "cell_type": "markdown",
   "id": "53d1e61c-3574-4482-9529-59268b7fb8d6",
   "metadata": {},
   "source": [
    "# Preparation\n",
    "## Data"
   ]
  },
  {
   "cell_type": "code",
   "execution_count": 2,
   "id": "e28820ec-976b-4d7b-92f4-62c50eb66c40",
   "metadata": {},
   "outputs": [],
   "source": [
    "var_list = [\n",
    "    'clseusa', 'ambornin', 'amcit', 'amlived', 'amenglsh', 'amchrstn',\n",
    "    'amgovt', 'amfeel', 'amcitizn', 'amshamed', 'belikeus', 'ambetter',\n",
    "    'ifwrong', 'proudsss', 'proudgrp', 'proudpol', 'prouddem', 'proudeco',\n",
    "    'proudspt', 'proudart', 'proudhis', 'proudmil', 'proudsci']\n",
    "\n",
    "var_list_f = [var + \"_f\" for var in var_list]\n",
    "var_list_n = [var + \"_n\" for var in var_list]\n",
    "\n",
    "ctrl_list = [\n",
    "    'party_f', 'race_f', 'educ_f', 'region_f', 'reltrad_f', 'religstr_f', \n",
    "    'born_usa_f', 'sex_f', 'age_n', 'lnrealinc2004_n']"
   ]
  },
  {
   "cell_type": "code",
   "execution_count": 3,
   "id": "1e767a2f-4830-453c-a044-bcd771b288ee",
   "metadata": {},
   "outputs": [],
   "source": [
    "data2004 = pd.read_parquet(f\"data/data2004_830.parquet\")\n",
    "\n",
    "# Dataset with categorical outcomes and reindexing to 0 (as expected by StepMix)\n",
    "data_f = data2004[var_list_n] - 1\n",
    "\n",
    "# Dataset with controls (same as the authors)\n",
    "controls = data2004[ctrl_list]\n",
    "controls_dum = pd.get_dummies(controls)\n",
    "\n",
    "# Sample weights\n",
    "weights = data2004['wgt']"
   ]
  },
  {
   "cell_type": "code",
   "execution_count": 4,
   "id": "2e288b26-aecf-4aa6-9586-0f6fd7daa332",
   "metadata": {
    "scrolled": true
   },
   "outputs": [],
   "source": [
    "# Same options in LatentGold and StepMix (save for ordinal)\n",
    "SM_pred_clust = do_StepMix(\n",
    "    data = data_f,\n",
    "    controls = controls_dum,\n",
    "    n = 4,\n",
    "    msrt = 'categorical_nan',\n",
    "    covar = 'with',\n",
    "    weights = weights,\n",
    "    refit = True)\n",
    "\n",
    "step_mix_results = data2004[var_list_n + ['age_n']].copy()\n",
    "step_mix_results['SM_pred_clust'] = pd.DataFrame(SM_pred_clust) + 1"
   ]
  },
  {
   "cell_type": "code",
   "execution_count": 5,
   "id": "5711fa51-eb07-4915-89c3-767d5ba16b02",
   "metadata": {},
   "outputs": [],
   "source": [
    "# With options used in the main approach\n",
    "SM_pred_clust = do_StepMix(\n",
    "    data = data_f,\n",
    "    controls = None,\n",
    "    n = 4,\n",
    "    msrt = 'categorical',\n",
    "    covar = 'without',\n",
    "    weights = None,\n",
    "    refit = True)\n",
    "\n",
    "step_mix_results = data2004[var_list_n + ['age_n']].copy()\n",
    "step_mix_results['SM_pred_clust'] = pd.DataFrame(SM_pred_clust) + 1"
   ]
  },
  {
   "cell_type": "code",
   "execution_count": 6,
   "id": "c981cfaa-ee3d-4c69-9f28-1dee20986f7c",
   "metadata": {
    "scrolled": true
   },
   "outputs": [],
   "source": [
    "latent_gold_results = pd.read_csv(\"data/4C N830 wgt cov.csv\", sep=';')\n",
    "\n",
    "latent_gold_results.rename(columns={\n",
    "    'ind_amshame': 'ind_amshamedr',\n",
    "    'cov_age': 'age_n',\n",
    "    'Modal': 'LG_pred_clust'}, inplace=True)\n",
    "var_list_stata = [\"ind_\" + var + \"r\" for var in var_list]\n",
    "latent_gold_results = latent_gold_results[var_list_stata + ['age_n', 'LG_pred_clust', 'Cluster1', 'Cluster2', 'Cluster3', 'Cluster4']]\n",
    "latent_gold_results.columns = var_list_n + list(latent_gold_results.columns[23:])"
   ]
  },
  {
   "cell_type": "code",
   "execution_count": 7,
   "id": "13d760e6-6aac-4d68-92d8-09ce8eecc087",
   "metadata": {},
   "outputs": [],
   "source": [
    "merged_results = pd.merge(\n",
    "    step_mix_results,\n",
    "    latent_gold_results,\n",
    "    on=var_list_n + ['age_n'],\n",
    "    how='inner')"
   ]
  },
  {
   "cell_type": "code",
   "execution_count": 8,
   "id": "bf68d6c5-3d1b-492c-b419-fcc989da2b2c",
   "metadata": {},
   "outputs": [
    {
     "name": "stdout",
     "output_type": "stream",
     "text": [
      "Most likely cluster mapping from LG_pred_clust to SM_pred_clust:\n",
      "{1: 1, 2: 3, 3: 2, 4: 4}\n",
      "Proportion of overlapping assignments after mapping: 90.36%\n"
     ]
    }
   ],
   "source": [
    "# Step 1: Create a confusion matrix\n",
    "conf_matrix = pd.crosstab(merged_results['LG_pred_clust'], merged_results['SM_pred_clust'])\n",
    "\n",
    "# Step 2: Convert the confusion matrix to a cost matrix (negative for maximization)\n",
    "cost_matrix = -conf_matrix.values\n",
    "\n",
    "# Step 3: Solve the assignment problem\n",
    "row_ind, col_ind = linear_sum_assignment(cost_matrix)\n",
    "\n",
    "# Step 4: Create the mapping\n",
    "mapping = dict(zip(conf_matrix.index[row_ind], conf_matrix.columns[col_ind]))\n",
    "print(\"Most likely cluster mapping from LG_pred_clust to SM_pred_clust:\")\n",
    "print(mapping)\n",
    "\n",
    "# Step 5: Apply mapping and assess overlap\n",
    "merged_results['LG_mapped'] = merged_results['LG_pred_clust'].map(mapping)\n",
    "\n",
    "# Step 6: Calculate overlap (e.g., accuracy)\n",
    "overlap = (merged_results['LG_mapped'] == merged_results['SM_pred_clust']).mean()\n",
    "print(f'Proportion of overlapping assignments after mapping: {overlap:.2%}')"
   ]
  },
  {
   "cell_type": "code",
   "execution_count": 9,
   "id": "d31bf494-e27f-419e-97c8-91e2746e20bc",
   "metadata": {},
   "outputs": [
    {
     "name": "stdout",
     "output_type": "stream",
     "text": [
      "LatentGold classification error depending on agreement with StepMix\n",
      "agreement\n",
      "False    0.934288\n",
      "True     0.928488\n",
      "Name: classif_error_LG, dtype: float64\n",
      "\n",
      "LatentGold classification error depending on clusters\n",
      "LG_pred_clust\n",
      "1    0.921275\n",
      "2    0.937321\n",
      "3    0.930859\n",
      "4    0.945407\n",
      "Name: classif_error_LG, dtype: float64\n"
     ]
    }
   ],
   "source": [
    "merged_results['classif_error_LG'] = merged_results.apply(\n",
    "    lambda row: row[f'Cluster{row[\"LG_pred_clust\"]}'], axis=1\n",
    ")\n",
    "merged_results['classif_error_LG'] = merged_results['classif_error_LG'].str.replace(',', '.').astype(float)\n",
    "merged_results['agreement'] = merged_results['LG_mapped'] == merged_results['LG_pred_clust']\n",
    "print(\"LatentGold classification error depending on agreement with StepMix\")\n",
    "print(merged_results.groupby('agreement')['classif_error_LG'].mean())\n",
    "print(\"\")\n",
    "print(\"LatentGold classification error depending on clusters\")\n",
    "print(merged_results.groupby('LG_pred_clust')['classif_error_LG'].mean())"
   ]
  }
 ],
 "metadata": {
  "kernelspec": {
   "display_name": "Python 3 (ipykernel)",
   "language": "python",
   "name": "python3"
  },
  "language_info": {
   "codemirror_mode": {
    "name": "ipython",
    "version": 3
   },
   "file_extension": ".py",
   "mimetype": "text/x-python",
   "name": "python",
   "nbconvert_exporter": "python",
   "pygments_lexer": "ipython3",
   "version": "3.12.9"
  }
 },
 "nbformat": 4,
 "nbformat_minor": 5
}
